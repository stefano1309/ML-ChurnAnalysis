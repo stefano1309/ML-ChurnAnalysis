{
 "cells": [
  {
   "cell_type": "markdown",
   "metadata": {},
   "source": [
    "# Important note! \n",
    "\n",
    "First the code is run by loading the dataset and making 3 predictive models. At the end, after the AUC and F2-SCORE calculations, a feature importance graph is generated from the Random Forest classifeir. The top 15 features are selected, new data split/oversample is done and the three models are built a second time (this time with only the top 15 features). This is done to verify whether the selected features and reduced dimensionality have a positive effect on the predicitve models."
   ]
  },
  {
   "cell_type": "code",
   "execution_count": 1,
   "metadata": {},
   "outputs": [],
   "source": [
    "import numpy as np\n",
    "import pandas as pd\n",
    "import matplotlib.pyplot as plt\n",
    "import seaborn as sns; sns.set()\n",
    "from sklearn.model_selection import train_test_split\n",
    "from sklearn.linear_model import LogisticRegression\n",
    "import statsmodels.api as sm\n",
    "import sklearn\n",
    "from imblearn.over_sampling import SMOTE\n",
    "from sklearn.naive_bayes import MultinomialNB\n",
    "from sklearn.naive_bayes import CategoricalNB\n",
    "from sklearn.metrics import accuracy_score\n",
    "from sklearn.metrics import confusion_matrix\n",
    "from sklearn.metrics import classification_report\n",
    "from sklearn.naive_bayes import GaussianNB\n",
    "from sklearn.inspection import permutation_importance\n",
    "from sklearn.metrics import roc_auc_score\n",
    "from sklearn.metrics import roc_curve\n",
    "from sklearn.model_selection import RepeatedStratifiedKFold\n",
    "from sklearn.preprocessing import PowerTransformer\n",
    "from sklearn.model_selection import train_test_split,GridSearchCV\n",
    "import xgboost as xgb\n",
    "from sklearn.model_selection import GridSearchCV\n",
    "from sklearn.inspection import permutation_importance\n",
    "from sklearn import metrics \n",
    "from sklearn import ensemble\n",
    "from hyperopt import STATUS_OK, Trials, fmin, hp, tpe\n",
    "from sklearn.metrics import fbeta_score\n",
    "from sklearn.model_selection import cross_val_predict\n",
    "from sklearn.metrics import cohen_kappa_score\n"
   ]
  },
  {
   "cell_type": "code",
   "execution_count": 2,
   "metadata": {},
   "outputs": [],
   "source": [
    "#pip install sklearn"
   ]
  },
  {
   "cell_type": "code",
   "execution_count": 3,
   "metadata": {},
   "outputs": [],
   "source": [
    "#pip install hyperopt"
   ]
  },
  {
   "cell_type": "markdown",
   "metadata": {},
   "source": [
    "# Load dataset"
   ]
  },
  {
   "cell_type": "code",
   "execution_count": 4,
   "metadata": {},
   "outputs": [],
   "source": [
    "df = pd.read_csv('ML_Training_Dataset.csv')"
   ]
  },
  {
   "cell_type": "code",
   "execution_count": 5,
   "metadata": {},
   "outputs": [],
   "source": [
    "df = df.drop(['Unnamed: 0','puuid'], axis=1)"
   ]
  },
  {
   "cell_type": "code",
   "execution_count": 6,
   "metadata": {},
   "outputs": [
    {
     "data": {
      "text/html": [
       "<div>\n",
       "<style scoped>\n",
       "    .dataframe tbody tr th:only-of-type {\n",
       "        vertical-align: middle;\n",
       "    }\n",
       "\n",
       "    .dataframe tbody tr th {\n",
       "        vertical-align: top;\n",
       "    }\n",
       "\n",
       "    .dataframe thead th {\n",
       "        text-align: right;\n",
       "    }\n",
       "</style>\n",
       "<table border=\"1\" class=\"dataframe\">\n",
       "  <thead>\n",
       "    <tr style=\"text-align: right;\">\n",
       "      <th></th>\n",
       "      <th>assists</th>\n",
       "      <th>deaths</th>\n",
       "      <th>kills</th>\n",
       "      <th>bountyLevel</th>\n",
       "      <th>champExperience</th>\n",
       "      <th>champLevel</th>\n",
       "      <th>damageDealtToBuildings</th>\n",
       "      <th>damageDealtToObjectives</th>\n",
       "      <th>damageDealtToTurrets</th>\n",
       "      <th>damageSelfMitigated</th>\n",
       "      <th>...</th>\n",
       "      <th>firstBloodKill</th>\n",
       "      <th>firstTowerAssist</th>\n",
       "      <th>firstTowerKill</th>\n",
       "      <th>gameEndedInEarlySurrender</th>\n",
       "      <th>gameEndedInSurrender</th>\n",
       "      <th>teamEarlySurrendered</th>\n",
       "      <th>win</th>\n",
       "      <th>freshBlood</th>\n",
       "      <th>hotStreak</th>\n",
       "      <th>Churner</th>\n",
       "    </tr>\n",
       "  </thead>\n",
       "  <tbody>\n",
       "    <tr>\n",
       "      <th>0</th>\n",
       "      <td>-3.41</td>\n",
       "      <td>-2.22</td>\n",
       "      <td>0.72</td>\n",
       "      <td>0.29</td>\n",
       "      <td>93.04</td>\n",
       "      <td>0.32</td>\n",
       "      <td>4064.62</td>\n",
       "      <td>4859.78</td>\n",
       "      <td>4064.62</td>\n",
       "      <td>10458.26</td>\n",
       "      <td>...</td>\n",
       "      <td>10.71</td>\n",
       "      <td>-3.90</td>\n",
       "      <td>14.61</td>\n",
       "      <td>-1.30</td>\n",
       "      <td>-12.45</td>\n",
       "      <td>0.00</td>\n",
       "      <td>-1.19</td>\n",
       "      <td>0.0</td>\n",
       "      <td>0.0</td>\n",
       "      <td>0</td>\n",
       "    </tr>\n",
       "    <tr>\n",
       "      <th>1</th>\n",
       "      <td>0.84</td>\n",
       "      <td>0.27</td>\n",
       "      <td>-1.92</td>\n",
       "      <td>-0.04</td>\n",
       "      <td>-885.29</td>\n",
       "      <td>-0.31</td>\n",
       "      <td>-688.18</td>\n",
       "      <td>-1119.77</td>\n",
       "      <td>-688.18</td>\n",
       "      <td>20035.11</td>\n",
       "      <td>...</td>\n",
       "      <td>6.25</td>\n",
       "      <td>-25.00</td>\n",
       "      <td>-4.17</td>\n",
       "      <td>0.00</td>\n",
       "      <td>8.33</td>\n",
       "      <td>0.00</td>\n",
       "      <td>-6.25</td>\n",
       "      <td>0.0</td>\n",
       "      <td>0.0</td>\n",
       "      <td>0</td>\n",
       "    </tr>\n",
       "    <tr>\n",
       "      <th>2</th>\n",
       "      <td>-3.54</td>\n",
       "      <td>-2.08</td>\n",
       "      <td>-1.14</td>\n",
       "      <td>0.29</td>\n",
       "      <td>97.28</td>\n",
       "      <td>0.55</td>\n",
       "      <td>2261.36</td>\n",
       "      <td>4072.41</td>\n",
       "      <td>2261.36</td>\n",
       "      <td>-3678.36</td>\n",
       "      <td>...</td>\n",
       "      <td>5.13</td>\n",
       "      <td>-11.54</td>\n",
       "      <td>3.20</td>\n",
       "      <td>0.00</td>\n",
       "      <td>-10.25</td>\n",
       "      <td>0.00</td>\n",
       "      <td>-8.33</td>\n",
       "      <td>0.0</td>\n",
       "      <td>0.0</td>\n",
       "      <td>0</td>\n",
       "    </tr>\n",
       "    <tr>\n",
       "      <th>3</th>\n",
       "      <td>-0.47</td>\n",
       "      <td>-0.63</td>\n",
       "      <td>-1.74</td>\n",
       "      <td>0.62</td>\n",
       "      <td>-1722.50</td>\n",
       "      <td>-0.73</td>\n",
       "      <td>-1448.11</td>\n",
       "      <td>-1922.69</td>\n",
       "      <td>-1448.11</td>\n",
       "      <td>-2029.27</td>\n",
       "      <td>...</td>\n",
       "      <td>5.21</td>\n",
       "      <td>10.42</td>\n",
       "      <td>-2.08</td>\n",
       "      <td>0.00</td>\n",
       "      <td>0.00</td>\n",
       "      <td>0.00</td>\n",
       "      <td>-14.58</td>\n",
       "      <td>0.0</td>\n",
       "      <td>0.0</td>\n",
       "      <td>0</td>\n",
       "    </tr>\n",
       "    <tr>\n",
       "      <th>4</th>\n",
       "      <td>-1.82</td>\n",
       "      <td>1.93</td>\n",
       "      <td>-0.42</td>\n",
       "      <td>-0.29</td>\n",
       "      <td>-486.78</td>\n",
       "      <td>-0.26</td>\n",
       "      <td>-399.25</td>\n",
       "      <td>-662.98</td>\n",
       "      <td>-399.25</td>\n",
       "      <td>-343.31</td>\n",
       "      <td>...</td>\n",
       "      <td>7.18</td>\n",
       "      <td>-10.34</td>\n",
       "      <td>-1.15</td>\n",
       "      <td>-1.15</td>\n",
       "      <td>8.04</td>\n",
       "      <td>-1.15</td>\n",
       "      <td>-29.02</td>\n",
       "      <td>0.0</td>\n",
       "      <td>0.0</td>\n",
       "      <td>0</td>\n",
       "    </tr>\n",
       "    <tr>\n",
       "      <th>...</th>\n",
       "      <td>...</td>\n",
       "      <td>...</td>\n",
       "      <td>...</td>\n",
       "      <td>...</td>\n",
       "      <td>...</td>\n",
       "      <td>...</td>\n",
       "      <td>...</td>\n",
       "      <td>...</td>\n",
       "      <td>...</td>\n",
       "      <td>...</td>\n",
       "      <td>...</td>\n",
       "      <td>...</td>\n",
       "      <td>...</td>\n",
       "      <td>...</td>\n",
       "      <td>...</td>\n",
       "      <td>...</td>\n",
       "      <td>...</td>\n",
       "      <td>...</td>\n",
       "      <td>...</td>\n",
       "      <td>...</td>\n",
       "      <td>...</td>\n",
       "    </tr>\n",
       "    <tr>\n",
       "      <th>360</th>\n",
       "      <td>6.62</td>\n",
       "      <td>0.36</td>\n",
       "      <td>-1.77</td>\n",
       "      <td>-0.54</td>\n",
       "      <td>1867.60</td>\n",
       "      <td>1.44</td>\n",
       "      <td>-141.69</td>\n",
       "      <td>-1108.35</td>\n",
       "      <td>-141.69</td>\n",
       "      <td>-7390.51</td>\n",
       "      <td>...</td>\n",
       "      <td>-5.15</td>\n",
       "      <td>-9.28</td>\n",
       "      <td>3.18</td>\n",
       "      <td>0.00</td>\n",
       "      <td>-15.29</td>\n",
       "      <td>0.00</td>\n",
       "      <td>-1.55</td>\n",
       "      <td>0.0</td>\n",
       "      <td>0.0</td>\n",
       "      <td>0</td>\n",
       "    </tr>\n",
       "    <tr>\n",
       "      <th>361</th>\n",
       "      <td>-0.55</td>\n",
       "      <td>-0.57</td>\n",
       "      <td>-0.91</td>\n",
       "      <td>-0.11</td>\n",
       "      <td>-777.30</td>\n",
       "      <td>-0.21</td>\n",
       "      <td>-115.28</td>\n",
       "      <td>-2285.18</td>\n",
       "      <td>-115.28</td>\n",
       "      <td>-3643.87</td>\n",
       "      <td>...</td>\n",
       "      <td>3.19</td>\n",
       "      <td>-2.25</td>\n",
       "      <td>4.78</td>\n",
       "      <td>0.00</td>\n",
       "      <td>-8.24</td>\n",
       "      <td>0.00</td>\n",
       "      <td>-3.27</td>\n",
       "      <td>0.0</td>\n",
       "      <td>0.0</td>\n",
       "      <td>0</td>\n",
       "    </tr>\n",
       "    <tr>\n",
       "      <th>362</th>\n",
       "      <td>-1.11</td>\n",
       "      <td>-0.43</td>\n",
       "      <td>-1.17</td>\n",
       "      <td>-0.22</td>\n",
       "      <td>-522.24</td>\n",
       "      <td>-0.19</td>\n",
       "      <td>415.66</td>\n",
       "      <td>-1377.69</td>\n",
       "      <td>415.66</td>\n",
       "      <td>-6088.51</td>\n",
       "      <td>...</td>\n",
       "      <td>5.31</td>\n",
       "      <td>-2.27</td>\n",
       "      <td>-1.51</td>\n",
       "      <td>0.00</td>\n",
       "      <td>-7.19</td>\n",
       "      <td>0.00</td>\n",
       "      <td>-6.06</td>\n",
       "      <td>0.0</td>\n",
       "      <td>0.0</td>\n",
       "      <td>1</td>\n",
       "    </tr>\n",
       "    <tr>\n",
       "      <th>363</th>\n",
       "      <td>-0.20</td>\n",
       "      <td>0.81</td>\n",
       "      <td>1.55</td>\n",
       "      <td>0.66</td>\n",
       "      <td>776.90</td>\n",
       "      <td>0.00</td>\n",
       "      <td>51.48</td>\n",
       "      <td>3602.54</td>\n",
       "      <td>51.48</td>\n",
       "      <td>-1044.26</td>\n",
       "      <td>...</td>\n",
       "      <td>14.86</td>\n",
       "      <td>2.53</td>\n",
       "      <td>-2.90</td>\n",
       "      <td>0.00</td>\n",
       "      <td>34.79</td>\n",
       "      <td>0.00</td>\n",
       "      <td>5.07</td>\n",
       "      <td>0.0</td>\n",
       "      <td>0.0</td>\n",
       "      <td>0</td>\n",
       "    </tr>\n",
       "    <tr>\n",
       "      <th>364</th>\n",
       "      <td>3.97</td>\n",
       "      <td>0.56</td>\n",
       "      <td>1.79</td>\n",
       "      <td>1.37</td>\n",
       "      <td>2712.20</td>\n",
       "      <td>0.56</td>\n",
       "      <td>975.75</td>\n",
       "      <td>-2176.21</td>\n",
       "      <td>975.75</td>\n",
       "      <td>12061.25</td>\n",
       "      <td>...</td>\n",
       "      <td>3.07</td>\n",
       "      <td>-1.32</td>\n",
       "      <td>-9.21</td>\n",
       "      <td>5.70</td>\n",
       "      <td>-0.88</td>\n",
       "      <td>7.01</td>\n",
       "      <td>20.62</td>\n",
       "      <td>0.0</td>\n",
       "      <td>0.0</td>\n",
       "      <td>0</td>\n",
       "    </tr>\n",
       "  </tbody>\n",
       "</table>\n",
       "<p>365 rows × 41 columns</p>\n",
       "</div>"
      ],
      "text/plain": [
       "     assists  deaths  kills  bountyLevel  champExperience  champLevel  \\\n",
       "0      -3.41   -2.22   0.72         0.29            93.04        0.32   \n",
       "1       0.84    0.27  -1.92        -0.04          -885.29       -0.31   \n",
       "2      -3.54   -2.08  -1.14         0.29            97.28        0.55   \n",
       "3      -0.47   -0.63  -1.74         0.62         -1722.50       -0.73   \n",
       "4      -1.82    1.93  -0.42        -0.29          -486.78       -0.26   \n",
       "..       ...     ...    ...          ...              ...         ...   \n",
       "360     6.62    0.36  -1.77        -0.54          1867.60        1.44   \n",
       "361    -0.55   -0.57  -0.91        -0.11          -777.30       -0.21   \n",
       "362    -1.11   -0.43  -1.17        -0.22          -522.24       -0.19   \n",
       "363    -0.20    0.81   1.55         0.66           776.90        0.00   \n",
       "364     3.97    0.56   1.79         1.37          2712.20        0.56   \n",
       "\n",
       "     damageDealtToBuildings  damageDealtToObjectives  damageDealtToTurrets  \\\n",
       "0                   4064.62                  4859.78               4064.62   \n",
       "1                   -688.18                 -1119.77               -688.18   \n",
       "2                   2261.36                  4072.41               2261.36   \n",
       "3                  -1448.11                 -1922.69              -1448.11   \n",
       "4                   -399.25                  -662.98               -399.25   \n",
       "..                      ...                      ...                   ...   \n",
       "360                 -141.69                 -1108.35               -141.69   \n",
       "361                 -115.28                 -2285.18               -115.28   \n",
       "362                  415.66                 -1377.69                415.66   \n",
       "363                   51.48                  3602.54                 51.48   \n",
       "364                  975.75                 -2176.21                975.75   \n",
       "\n",
       "     damageSelfMitigated  ...  firstBloodKill  firstTowerAssist  \\\n",
       "0               10458.26  ...           10.71             -3.90   \n",
       "1               20035.11  ...            6.25            -25.00   \n",
       "2               -3678.36  ...            5.13            -11.54   \n",
       "3               -2029.27  ...            5.21             10.42   \n",
       "4                -343.31  ...            7.18            -10.34   \n",
       "..                   ...  ...             ...               ...   \n",
       "360             -7390.51  ...           -5.15             -9.28   \n",
       "361             -3643.87  ...            3.19             -2.25   \n",
       "362             -6088.51  ...            5.31             -2.27   \n",
       "363             -1044.26  ...           14.86              2.53   \n",
       "364             12061.25  ...            3.07             -1.32   \n",
       "\n",
       "     firstTowerKill  gameEndedInEarlySurrender  gameEndedInSurrender  \\\n",
       "0             14.61                      -1.30                -12.45   \n",
       "1             -4.17                       0.00                  8.33   \n",
       "2              3.20                       0.00                -10.25   \n",
       "3             -2.08                       0.00                  0.00   \n",
       "4             -1.15                      -1.15                  8.04   \n",
       "..              ...                        ...                   ...   \n",
       "360            3.18                       0.00                -15.29   \n",
       "361            4.78                       0.00                 -8.24   \n",
       "362           -1.51                       0.00                 -7.19   \n",
       "363           -2.90                       0.00                 34.79   \n",
       "364           -9.21                       5.70                 -0.88   \n",
       "\n",
       "     teamEarlySurrendered    win  freshBlood  hotStreak  Churner  \n",
       "0                    0.00  -1.19         0.0        0.0        0  \n",
       "1                    0.00  -6.25         0.0        0.0        0  \n",
       "2                    0.00  -8.33         0.0        0.0        0  \n",
       "3                    0.00 -14.58         0.0        0.0        0  \n",
       "4                   -1.15 -29.02         0.0        0.0        0  \n",
       "..                    ...    ...         ...        ...      ...  \n",
       "360                  0.00  -1.55         0.0        0.0        0  \n",
       "361                  0.00  -3.27         0.0        0.0        0  \n",
       "362                  0.00  -6.06         0.0        0.0        1  \n",
       "363                  0.00   5.07         0.0        0.0        0  \n",
       "364                  7.01  20.62         0.0        0.0        0  \n",
       "\n",
       "[365 rows x 41 columns]"
      ]
     },
     "execution_count": 6,
     "metadata": {},
     "output_type": "execute_result"
    }
   ],
   "source": [
    "df[\"Churner\"] = df[\"Churner\"].astype(int)\n",
    "df\n",
    "# 0 equals to \"Not Churned\" and 1 equals to \"Churned\""
   ]
  },
  {
   "cell_type": "code",
   "execution_count": 7,
   "metadata": {},
   "outputs": [
    {
     "data": {
      "text/html": [
       "<div>\n",
       "<style scoped>\n",
       "    .dataframe tbody tr th:only-of-type {\n",
       "        vertical-align: middle;\n",
       "    }\n",
       "\n",
       "    .dataframe tbody tr th {\n",
       "        vertical-align: top;\n",
       "    }\n",
       "\n",
       "    .dataframe thead th {\n",
       "        text-align: right;\n",
       "    }\n",
       "</style>\n",
       "<table border=\"1\" class=\"dataframe\">\n",
       "  <thead>\n",
       "    <tr style=\"text-align: right;\">\n",
       "      <th></th>\n",
       "      <th>assists</th>\n",
       "      <th>deaths</th>\n",
       "      <th>kills</th>\n",
       "      <th>bountyLevel</th>\n",
       "      <th>champExperience</th>\n",
       "      <th>champLevel</th>\n",
       "      <th>damageDealtToBuildings</th>\n",
       "      <th>damageDealtToObjectives</th>\n",
       "      <th>damageDealtToTurrets</th>\n",
       "      <th>damageSelfMitigated</th>\n",
       "      <th>...</th>\n",
       "      <th>firstBloodKill</th>\n",
       "      <th>firstTowerAssist</th>\n",
       "      <th>firstTowerKill</th>\n",
       "      <th>gameEndedInEarlySurrender</th>\n",
       "      <th>gameEndedInSurrender</th>\n",
       "      <th>teamEarlySurrendered</th>\n",
       "      <th>win</th>\n",
       "      <th>freshBlood</th>\n",
       "      <th>hotStreak</th>\n",
       "      <th>Churner</th>\n",
       "    </tr>\n",
       "  </thead>\n",
       "  <tbody>\n",
       "    <tr>\n",
       "      <th>0</th>\n",
       "      <td>-3.41</td>\n",
       "      <td>-2.22</td>\n",
       "      <td>0.72</td>\n",
       "      <td>0.29</td>\n",
       "      <td>93.04</td>\n",
       "      <td>0.32</td>\n",
       "      <td>4064.62</td>\n",
       "      <td>4859.78</td>\n",
       "      <td>4064.62</td>\n",
       "      <td>10458.26</td>\n",
       "      <td>...</td>\n",
       "      <td>10.71</td>\n",
       "      <td>-3.90</td>\n",
       "      <td>14.61</td>\n",
       "      <td>-1.30</td>\n",
       "      <td>-12.45</td>\n",
       "      <td>0.00</td>\n",
       "      <td>-1.19</td>\n",
       "      <td>0.0</td>\n",
       "      <td>0.0</td>\n",
       "      <td>0</td>\n",
       "    </tr>\n",
       "    <tr>\n",
       "      <th>1</th>\n",
       "      <td>0.84</td>\n",
       "      <td>0.27</td>\n",
       "      <td>-1.92</td>\n",
       "      <td>-0.04</td>\n",
       "      <td>-885.29</td>\n",
       "      <td>-0.31</td>\n",
       "      <td>-688.18</td>\n",
       "      <td>-1119.77</td>\n",
       "      <td>-688.18</td>\n",
       "      <td>20035.11</td>\n",
       "      <td>...</td>\n",
       "      <td>6.25</td>\n",
       "      <td>-25.00</td>\n",
       "      <td>-4.17</td>\n",
       "      <td>0.00</td>\n",
       "      <td>8.33</td>\n",
       "      <td>0.00</td>\n",
       "      <td>-6.25</td>\n",
       "      <td>0.0</td>\n",
       "      <td>0.0</td>\n",
       "      <td>0</td>\n",
       "    </tr>\n",
       "    <tr>\n",
       "      <th>2</th>\n",
       "      <td>-3.54</td>\n",
       "      <td>-2.08</td>\n",
       "      <td>-1.14</td>\n",
       "      <td>0.29</td>\n",
       "      <td>97.28</td>\n",
       "      <td>0.55</td>\n",
       "      <td>2261.36</td>\n",
       "      <td>4072.41</td>\n",
       "      <td>2261.36</td>\n",
       "      <td>-3678.36</td>\n",
       "      <td>...</td>\n",
       "      <td>5.13</td>\n",
       "      <td>-11.54</td>\n",
       "      <td>3.20</td>\n",
       "      <td>0.00</td>\n",
       "      <td>-10.25</td>\n",
       "      <td>0.00</td>\n",
       "      <td>-8.33</td>\n",
       "      <td>0.0</td>\n",
       "      <td>0.0</td>\n",
       "      <td>0</td>\n",
       "    </tr>\n",
       "    <tr>\n",
       "      <th>3</th>\n",
       "      <td>-0.47</td>\n",
       "      <td>-0.63</td>\n",
       "      <td>-1.74</td>\n",
       "      <td>0.62</td>\n",
       "      <td>-1722.50</td>\n",
       "      <td>-0.73</td>\n",
       "      <td>-1448.11</td>\n",
       "      <td>-1922.69</td>\n",
       "      <td>-1448.11</td>\n",
       "      <td>-2029.27</td>\n",
       "      <td>...</td>\n",
       "      <td>5.21</td>\n",
       "      <td>10.42</td>\n",
       "      <td>-2.08</td>\n",
       "      <td>0.00</td>\n",
       "      <td>0.00</td>\n",
       "      <td>0.00</td>\n",
       "      <td>-14.58</td>\n",
       "      <td>0.0</td>\n",
       "      <td>0.0</td>\n",
       "      <td>0</td>\n",
       "    </tr>\n",
       "    <tr>\n",
       "      <th>4</th>\n",
       "      <td>-1.82</td>\n",
       "      <td>1.93</td>\n",
       "      <td>-0.42</td>\n",
       "      <td>-0.29</td>\n",
       "      <td>-486.78</td>\n",
       "      <td>-0.26</td>\n",
       "      <td>-399.25</td>\n",
       "      <td>-662.98</td>\n",
       "      <td>-399.25</td>\n",
       "      <td>-343.31</td>\n",
       "      <td>...</td>\n",
       "      <td>7.18</td>\n",
       "      <td>-10.34</td>\n",
       "      <td>-1.15</td>\n",
       "      <td>-1.15</td>\n",
       "      <td>8.04</td>\n",
       "      <td>-1.15</td>\n",
       "      <td>-29.02</td>\n",
       "      <td>0.0</td>\n",
       "      <td>0.0</td>\n",
       "      <td>0</td>\n",
       "    </tr>\n",
       "    <tr>\n",
       "      <th>...</th>\n",
       "      <td>...</td>\n",
       "      <td>...</td>\n",
       "      <td>...</td>\n",
       "      <td>...</td>\n",
       "      <td>...</td>\n",
       "      <td>...</td>\n",
       "      <td>...</td>\n",
       "      <td>...</td>\n",
       "      <td>...</td>\n",
       "      <td>...</td>\n",
       "      <td>...</td>\n",
       "      <td>...</td>\n",
       "      <td>...</td>\n",
       "      <td>...</td>\n",
       "      <td>...</td>\n",
       "      <td>...</td>\n",
       "      <td>...</td>\n",
       "      <td>...</td>\n",
       "      <td>...</td>\n",
       "      <td>...</td>\n",
       "      <td>...</td>\n",
       "    </tr>\n",
       "    <tr>\n",
       "      <th>360</th>\n",
       "      <td>6.62</td>\n",
       "      <td>0.36</td>\n",
       "      <td>-1.77</td>\n",
       "      <td>-0.54</td>\n",
       "      <td>1867.60</td>\n",
       "      <td>1.44</td>\n",
       "      <td>-141.69</td>\n",
       "      <td>-1108.35</td>\n",
       "      <td>-141.69</td>\n",
       "      <td>-7390.51</td>\n",
       "      <td>...</td>\n",
       "      <td>-5.15</td>\n",
       "      <td>-9.28</td>\n",
       "      <td>3.18</td>\n",
       "      <td>0.00</td>\n",
       "      <td>-15.29</td>\n",
       "      <td>0.00</td>\n",
       "      <td>-1.55</td>\n",
       "      <td>0.0</td>\n",
       "      <td>0.0</td>\n",
       "      <td>0</td>\n",
       "    </tr>\n",
       "    <tr>\n",
       "      <th>361</th>\n",
       "      <td>-0.55</td>\n",
       "      <td>-0.57</td>\n",
       "      <td>-0.91</td>\n",
       "      <td>-0.11</td>\n",
       "      <td>-777.30</td>\n",
       "      <td>-0.21</td>\n",
       "      <td>-115.28</td>\n",
       "      <td>-2285.18</td>\n",
       "      <td>-115.28</td>\n",
       "      <td>-3643.87</td>\n",
       "      <td>...</td>\n",
       "      <td>3.19</td>\n",
       "      <td>-2.25</td>\n",
       "      <td>4.78</td>\n",
       "      <td>0.00</td>\n",
       "      <td>-8.24</td>\n",
       "      <td>0.00</td>\n",
       "      <td>-3.27</td>\n",
       "      <td>0.0</td>\n",
       "      <td>0.0</td>\n",
       "      <td>0</td>\n",
       "    </tr>\n",
       "    <tr>\n",
       "      <th>362</th>\n",
       "      <td>-1.11</td>\n",
       "      <td>-0.43</td>\n",
       "      <td>-1.17</td>\n",
       "      <td>-0.22</td>\n",
       "      <td>-522.24</td>\n",
       "      <td>-0.19</td>\n",
       "      <td>415.66</td>\n",
       "      <td>-1377.69</td>\n",
       "      <td>415.66</td>\n",
       "      <td>-6088.51</td>\n",
       "      <td>...</td>\n",
       "      <td>5.31</td>\n",
       "      <td>-2.27</td>\n",
       "      <td>-1.51</td>\n",
       "      <td>0.00</td>\n",
       "      <td>-7.19</td>\n",
       "      <td>0.00</td>\n",
       "      <td>-6.06</td>\n",
       "      <td>0.0</td>\n",
       "      <td>0.0</td>\n",
       "      <td>1</td>\n",
       "    </tr>\n",
       "    <tr>\n",
       "      <th>363</th>\n",
       "      <td>-0.20</td>\n",
       "      <td>0.81</td>\n",
       "      <td>1.55</td>\n",
       "      <td>0.66</td>\n",
       "      <td>776.90</td>\n",
       "      <td>0.00</td>\n",
       "      <td>51.48</td>\n",
       "      <td>3602.54</td>\n",
       "      <td>51.48</td>\n",
       "      <td>-1044.26</td>\n",
       "      <td>...</td>\n",
       "      <td>14.86</td>\n",
       "      <td>2.53</td>\n",
       "      <td>-2.90</td>\n",
       "      <td>0.00</td>\n",
       "      <td>34.79</td>\n",
       "      <td>0.00</td>\n",
       "      <td>5.07</td>\n",
       "      <td>0.0</td>\n",
       "      <td>0.0</td>\n",
       "      <td>0</td>\n",
       "    </tr>\n",
       "    <tr>\n",
       "      <th>364</th>\n",
       "      <td>3.97</td>\n",
       "      <td>0.56</td>\n",
       "      <td>1.79</td>\n",
       "      <td>1.37</td>\n",
       "      <td>2712.20</td>\n",
       "      <td>0.56</td>\n",
       "      <td>975.75</td>\n",
       "      <td>-2176.21</td>\n",
       "      <td>975.75</td>\n",
       "      <td>12061.25</td>\n",
       "      <td>...</td>\n",
       "      <td>3.07</td>\n",
       "      <td>-1.32</td>\n",
       "      <td>-9.21</td>\n",
       "      <td>5.70</td>\n",
       "      <td>-0.88</td>\n",
       "      <td>7.01</td>\n",
       "      <td>20.62</td>\n",
       "      <td>0.0</td>\n",
       "      <td>0.0</td>\n",
       "      <td>0</td>\n",
       "    </tr>\n",
       "  </tbody>\n",
       "</table>\n",
       "<p>365 rows × 41 columns</p>\n",
       "</div>"
      ],
      "text/plain": [
       "     assists  deaths  kills  bountyLevel  champExperience  champLevel  \\\n",
       "0      -3.41   -2.22   0.72         0.29            93.04        0.32   \n",
       "1       0.84    0.27  -1.92        -0.04          -885.29       -0.31   \n",
       "2      -3.54   -2.08  -1.14         0.29            97.28        0.55   \n",
       "3      -0.47   -0.63  -1.74         0.62         -1722.50       -0.73   \n",
       "4      -1.82    1.93  -0.42        -0.29          -486.78       -0.26   \n",
       "..       ...     ...    ...          ...              ...         ...   \n",
       "360     6.62    0.36  -1.77        -0.54          1867.60        1.44   \n",
       "361    -0.55   -0.57  -0.91        -0.11          -777.30       -0.21   \n",
       "362    -1.11   -0.43  -1.17        -0.22          -522.24       -0.19   \n",
       "363    -0.20    0.81   1.55         0.66           776.90        0.00   \n",
       "364     3.97    0.56   1.79         1.37          2712.20        0.56   \n",
       "\n",
       "     damageDealtToBuildings  damageDealtToObjectives  damageDealtToTurrets  \\\n",
       "0                   4064.62                  4859.78               4064.62   \n",
       "1                   -688.18                 -1119.77               -688.18   \n",
       "2                   2261.36                  4072.41               2261.36   \n",
       "3                  -1448.11                 -1922.69              -1448.11   \n",
       "4                   -399.25                  -662.98               -399.25   \n",
       "..                      ...                      ...                   ...   \n",
       "360                 -141.69                 -1108.35               -141.69   \n",
       "361                 -115.28                 -2285.18               -115.28   \n",
       "362                  415.66                 -1377.69                415.66   \n",
       "363                   51.48                  3602.54                 51.48   \n",
       "364                  975.75                 -2176.21                975.75   \n",
       "\n",
       "     damageSelfMitigated  ...  firstBloodKill  firstTowerAssist  \\\n",
       "0               10458.26  ...           10.71             -3.90   \n",
       "1               20035.11  ...            6.25            -25.00   \n",
       "2               -3678.36  ...            5.13            -11.54   \n",
       "3               -2029.27  ...            5.21             10.42   \n",
       "4                -343.31  ...            7.18            -10.34   \n",
       "..                   ...  ...             ...               ...   \n",
       "360             -7390.51  ...           -5.15             -9.28   \n",
       "361             -3643.87  ...            3.19             -2.25   \n",
       "362             -6088.51  ...            5.31             -2.27   \n",
       "363             -1044.26  ...           14.86              2.53   \n",
       "364             12061.25  ...            3.07             -1.32   \n",
       "\n",
       "     firstTowerKill  gameEndedInEarlySurrender  gameEndedInSurrender  \\\n",
       "0             14.61                      -1.30                -12.45   \n",
       "1             -4.17                       0.00                  8.33   \n",
       "2              3.20                       0.00                -10.25   \n",
       "3             -2.08                       0.00                  0.00   \n",
       "4             -1.15                      -1.15                  8.04   \n",
       "..              ...                        ...                   ...   \n",
       "360            3.18                       0.00                -15.29   \n",
       "361            4.78                       0.00                 -8.24   \n",
       "362           -1.51                       0.00                 -7.19   \n",
       "363           -2.90                       0.00                 34.79   \n",
       "364           -9.21                       5.70                 -0.88   \n",
       "\n",
       "     teamEarlySurrendered    win  freshBlood  hotStreak  Churner  \n",
       "0                    0.00  -1.19         0.0        0.0        0  \n",
       "1                    0.00  -6.25         0.0        0.0        0  \n",
       "2                    0.00  -8.33         0.0        0.0        0  \n",
       "3                    0.00 -14.58         0.0        0.0        0  \n",
       "4                   -1.15 -29.02         0.0        0.0        0  \n",
       "..                    ...    ...         ...        ...      ...  \n",
       "360                  0.00  -1.55         0.0        0.0        0  \n",
       "361                  0.00  -3.27         0.0        0.0        0  \n",
       "362                  0.00  -6.06         0.0        0.0        1  \n",
       "363                  0.00   5.07         0.0        0.0        0  \n",
       "364                  7.01  20.62         0.0        0.0        0  \n",
       "\n",
       "[365 rows x 41 columns]"
      ]
     },
     "execution_count": 7,
     "metadata": {},
     "output_type": "execute_result"
    }
   ],
   "source": [
    "df"
   ]
  },
  {
   "cell_type": "markdown",
   "metadata": {},
   "source": [
    "# Check for null values\n",
    "\n",
    "Drop columns whihch have 50% or more null values"
   ]
  },
  {
   "cell_type": "code",
   "execution_count": 8,
   "metadata": {
    "scrolled": true
   },
   "outputs": [
    {
     "data": {
      "text/plain": [
       "assists                           9\n",
       "deaths                           10\n",
       "kills                             9\n",
       "bountyLevel                      16\n",
       "champExperience                   9\n",
       "champLevel                       15\n",
       "damageDealtToBuildings            9\n",
       "damageDealtToObjectives           9\n",
       "damageDealtToTurrets              9\n",
       "damageSelfMitigated               9\n",
       "inhibitorTakedowns               16\n",
       "inhibitorsLost                   16\n",
       "killingSprees                    12\n",
       "pentaKills                      297\n",
       "quadraKills                     152\n",
       "timePlayed                        9\n",
       "totalTimeSpentDead                9\n",
       "wardsKilled                      11\n",
       "wardsPlaced                      13\n",
       "baronKills                       67\n",
       "acesBefore15Minutes             105\n",
       "controlWardsPlaced               40\n",
       "damagePerMinute                   9\n",
       "goldPerMinute                     9\n",
       "killParticipation                29\n",
       "laneMinionsFirst10Minutes         9\n",
       "maxCsAdvantageOnLaneOpponent      9\n",
       "skillshotsHit                     9\n",
       "damageTakenOnTeamPercentage      89\n",
       "gameLength                        9\n",
       "firstBloodAssist                 20\n",
       "firstBloodKill                   19\n",
       "firstTowerAssist                 30\n",
       "firstTowerKill                   19\n",
       "gameEndedInEarlySurrender       292\n",
       "gameEndedInSurrender             12\n",
       "teamEarlySurrendered            326\n",
       "win                              14\n",
       "freshBlood                      365\n",
       "hotStreak                       365\n",
       "Churner                         276\n",
       "dtype: int64"
      ]
     },
     "execution_count": 8,
     "metadata": {},
     "output_type": "execute_result"
    }
   ],
   "source": [
    "df.isin([0]).sum(axis=0) "
   ]
  },
  {
   "cell_type": "code",
   "execution_count": 9,
   "metadata": {
    "scrolled": true
   },
   "outputs": [],
   "source": [
    "df = df.drop(['hotStreak','freshBlood','teamEarlySurrendered','gameEndedInEarlySurrender','pentaKills','quadraKills'], axis=1)\n"
   ]
  },
  {
   "cell_type": "markdown",
   "metadata": {},
   "source": [
    "# Split dataset\n",
    "65/20/15 is the split ratio selected"
   ]
  },
  {
   "cell_type": "code",
   "execution_count": 10,
   "metadata": {},
   "outputs": [
    {
     "name": "stdout",
     "output_type": "stream",
     "text": [
      "0    192\n",
      "1     56\n",
      "Name: Churner, dtype: int64\n",
      "0    46\n",
      "1    16\n",
      "Name: Churner, dtype: int64\n",
      "0    38\n",
      "1    17\n",
      "Name: Churner, dtype: int64\n"
     ]
    }
   ],
   "source": [
    "y=df.loc[:,df.columns=='Churner']\n",
    "X=df.loc[:,df.columns!='Churner']\n",
    "\n",
    "X_main,X_val,y_main,y_val = train_test_split(X,y, test_size=0.15, random_state=14) #to assess final model, this will undergo SMOTE\n",
    "\n",
    "\n",
    "X_train,X_test,y_train,y_test = train_test_split(X_main,y_main, test_size=0.20, random_state=12) #to train and test models\n",
    "\n",
    "X_test.shape\n",
    "X_train.shape\n",
    "X_val.shape\n",
    "columns = X_train.columns\n",
    "\n",
    "print(y_train['Churner'].value_counts())\n",
    "print(y_test['Churner'].value_counts())\n",
    "print(y_val['Churner'].value_counts())\n"
   ]
  },
  {
   "cell_type": "markdown",
   "metadata": {},
   "source": [
    "# Check for imbalance"
   ]
  },
  {
   "cell_type": "code",
   "execution_count": 11,
   "metadata": {
    "scrolled": false
   },
   "outputs": [
    {
     "data": {
      "text/plain": [
       "<matplotlib.axes._subplots.AxesSubplot at 0x1e57688f3d0>"
      ]
     },
     "execution_count": 11,
     "metadata": {},
     "output_type": "execute_result"
    },
    {
     "data": {
      "image/png": "[encoded data removed]",
      "text/plain": [
       "<Figure size 432x288 with 1 Axes>"
      ]
     },
     "metadata": {},
     "output_type": "display_data"
    }
   ],
   "source": [
    "sns.countplot(x=df['Churner'], data=df, palette = 'hls')\n"
   ]
  },
  {
   "cell_type": "markdown",
   "metadata": {},
   "source": [
    "# OVERSAMPLE\n",
    "\n",
    "Aplies SMOTE to the minority class"
   ]
  },
  {
   "cell_type": "code",
   "execution_count": 12,
   "metadata": {},
   "outputs": [],
   "source": [
    "#!pip install imbalanced-learn"
   ]
  },
  {
   "cell_type": "code",
   "execution_count": 13,
   "metadata": {},
   "outputs": [],
   "source": [
    "# for reproducibility purposes\n",
    "seed = 13\n",
    "# SMOTE number of neighbors\n",
    "k = 3\n",
    "\n",
    "sm = SMOTE(sampling_strategy={1:142}, k_neighbors=k, random_state=seed)\n",
    "X_res, y_res = sm.fit_resample(X_train, y_train)\n"
   ]
  },
  {
   "cell_type": "markdown",
   "metadata": {},
   "source": [
    "# Data transformation\n",
    "\n",
    "Double checking the class distribution"
   ]
  },
  {
   "cell_type": "code",
   "execution_count": 14,
   "metadata": {},
   "outputs": [],
   "source": [
    "X_train,y_train = X_res, y_res\n"
   ]
  },
  {
   "cell_type": "code",
   "execution_count": 15,
   "metadata": {},
   "outputs": [
    {
     "name": "stdout",
     "output_type": "stream",
     "text": [
      "0    192\n",
      "1    142\n",
      "Name: Churner, dtype: int64\n",
      "0    46\n",
      "1    16\n",
      "Name: Churner, dtype: int64\n",
      "0    38\n",
      "1    17\n",
      "Name: Churner, dtype: int64\n"
     ]
    }
   ],
   "source": [
    "print(y_train['Churner'].value_counts())\n",
    "print(y_test['Churner'].value_counts())\n",
    "print(y_val['Churner'].value_counts())"
   ]
  },
  {
   "cell_type": "markdown",
   "metadata": {},
   "source": [
    "# Build Naive Bayes"
   ]
  },
  {
   "cell_type": "code",
   "execution_count": 62,
   "metadata": {},
   "outputs": [],
   "source": [
    "y_train = y_train.values.ravel()\n",
    "y_test = y_test.values.ravel()\n",
    "y_main = y_main.values.ravel()"
   ]
  },
  {
   "cell_type": "code",
   "execution_count": 63,
   "metadata": {},
   "outputs": [
    {
     "name": "stdout",
     "output_type": "stream",
     "text": [
      "0.6065573770491803\n",
      "              precision    recall  f1-score   support\n",
      "\n",
      "           0       0.82      0.61      0.70        46\n",
      "           1       0.33      0.60      0.43        15\n",
      "\n",
      "    accuracy                           0.61        61\n",
      "   macro avg       0.58      0.60      0.56        61\n",
      "weighted avg       0.70      0.61      0.63        61\n",
      "\n"
     ]
    },
    {
     "data": {
      "text/plain": [
       "array([[28, 18],\n",
       "       [ 6,  9]], dtype=int64)"
      ]
     },
     "execution_count": 63,
     "metadata": {},
     "output_type": "execute_result"
    },
    {
     "data": {
      "image/png": "[encoded data removed]",
      "text/plain": [
       "<Figure size 432x288 with 2 Axes>"
      ]
     },
     "metadata": {},
     "output_type": "display_data"
    }
   ],
   "source": [
    "classifer_NB = GaussianNB() \n",
    "classifer_NB.fit(X_train, y_train)\n",
    "prediction_NB = classifer_NB.predict(X_test)\n",
    "\n",
    "print(accuracy_score(y_test,prediction_NB))\n",
    "print(classification_report(y_test, prediction_NB))\n",
    "conf_matrix_NB = confusion_matrix(y_test, prediction_NB)\n",
    "sns.heatmap(conf_matrix_NB, annot=True)\n",
    "conf_matrix_NB"
   ]
  },
  {
   "cell_type": "markdown",
   "metadata": {},
   "source": [
    "# Feature Importance according to Naive Bayes"
   ]
  },
  {
   "cell_type": "code",
   "execution_count": 64,
   "metadata": {},
   "outputs": [
    {
     "name": "stdout",
     "output_type": "stream",
     "text": [
      "[-0.01639344 -0.01639344 -0.00655738  0.00655738  0.         -0.00655738\n",
      " -0.00655738 -0.00655738  0.01311475 -0.01967213  0.00327869 -0.00655738\n",
      "  0.00983607 -0.00327869  0.00327869]\n"
     ]
    }
   ],
   "source": [
    "imps = permutation_importance(classifer_NB, X_test, y_test)\n",
    "print(imps.importances_mean)"
   ]
  },
  {
   "cell_type": "markdown",
   "metadata": {},
   "source": [
    "# Increase accuracy NB"
   ]
  },
  {
   "cell_type": "code",
   "execution_count": 65,
   "metadata": {},
   "outputs": [
    {
     "name": "stdout",
     "output_type": "stream",
     "text": [
      "Fitting 15 folds for each of 100 candidates, totalling 1500 fits\n"
     ]
    }
   ],
   "source": [
    "cv_method = RepeatedStratifiedKFold(n_splits=5, \n",
    "                                    n_repeats=3, \n",
    "                                    random_state=13)\n",
    "classifer_NB2 = GaussianNB()\n",
    "params_NB = {'var_smoothing': np.logspace(0,-9, num=100)}\n",
    "\n",
    "gs_NB = GridSearchCV(estimator=classifer_NB2, \n",
    "                     param_grid=params_NB, \n",
    "                     cv=cv_method,\n",
    "                     verbose=1, \n",
    "                     scoring='recall')\n",
    "\n",
    "Data_transformed = PowerTransformer().fit_transform(X_test)\n",
    "\n",
    "gs_NB.fit(Data_transformed, y_test);"
   ]
  },
  {
   "cell_type": "code",
   "execution_count": 66,
   "metadata": {},
   "outputs": [
    {
     "data": {
      "text/plain": [
       "{'var_smoothing': 0.533669923120631}"
      ]
     },
     "execution_count": 66,
     "metadata": {},
     "output_type": "execute_result"
    }
   ],
   "source": [
    "gs_NB.best_params_"
   ]
  },
  {
   "cell_type": "code",
   "execution_count": 67,
   "metadata": {},
   "outputs": [
    {
     "data": {
      "text/plain": [
       "0.5111111111111111"
      ]
     },
     "execution_count": 67,
     "metadata": {},
     "output_type": "execute_result"
    }
   ],
   "source": [
    "gs_NB.best_score_"
   ]
  },
  {
   "cell_type": "code",
   "execution_count": 68,
   "metadata": {},
   "outputs": [
    {
     "name": "stdout",
     "output_type": "stream",
     "text": [
      "accuracy_score on test dataset :  0.7049180327868853\n"
     ]
    }
   ],
   "source": [
    "# predict the target on the test dataset\n",
    "prediction_NB_imp = gs_NB.predict(Data_transformed)\n",
    "\n",
    "# Accuracy Score on test dataset\n",
    "accuracy_test = accuracy_score(y_test,prediction_NB_imp)\n",
    "print('accuracy_score on test dataset : ', accuracy_test)"
   ]
  },
  {
   "cell_type": "code",
   "execution_count": 69,
   "metadata": {
    "scrolled": false
   },
   "outputs": [
    {
     "name": "stdout",
     "output_type": "stream",
     "text": [
      "              precision    recall  f1-score   support\n",
      "\n",
      "           0       0.94      0.65      0.77        46\n",
      "           1       0.45      0.87      0.59        15\n",
      "\n",
      "    accuracy                           0.70        61\n",
      "   macro avg       0.69      0.76      0.68        61\n",
      "weighted avg       0.82      0.70      0.73        61\n",
      "\n",
      "accuracy_score on test dataset :  0.7049180327868853\n"
     ]
    },
    {
     "data": {
      "image/png": "[encoded data removed]",
      "text/plain": [
       "<Figure size 432x288 with 2 Axes>"
      ]
     },
     "metadata": {},
     "output_type": "display_data"
    }
   ],
   "source": [
    "conf_matrix_NB_imporved = confusion_matrix(y_test, prediction_NB_imp)\n",
    "sns.heatmap(conf_matrix_NB_imporved, annot=True)\n",
    "print(classification_report(y_test, prediction_NB_imp))\n",
    "print('accuracy_score on test dataset : ', accuracy_test)"
   ]
  },
  {
   "cell_type": "markdown",
   "metadata": {},
   "source": [
    "# Apply best result to validation set take aside from original data"
   ]
  },
  {
   "cell_type": "code",
   "execution_count": 70,
   "metadata": {
    "scrolled": false
   },
   "outputs": [
    {
     "name": "stdout",
     "output_type": "stream",
     "text": [
      "0.7592592592592593\n",
      "              precision    recall  f1-score   support\n",
      "\n",
      "           0       0.83      0.89      0.86        44\n",
      "           1       0.29      0.20      0.24        10\n",
      "\n",
      "    accuracy                           0.76        54\n",
      "   macro avg       0.56      0.54      0.55        54\n",
      "weighted avg       0.73      0.76      0.74        54\n",
      "\n"
     ]
    },
    {
     "name": "stderr",
     "output_type": "stream",
     "text": [
      "C:\\Users\\stefa\\anaconda3\\lib\\site-packages\\sklearn\\base.py:443: UserWarning: X has feature names, but GaussianNB was fitted without feature names\n",
      "  warnings.warn(\n"
     ]
    },
    {
     "data": {
      "text/plain": [
       "array([[39,  5],\n",
       "       [ 8,  2]], dtype=int64)"
      ]
     },
     "execution_count": 70,
     "metadata": {},
     "output_type": "execute_result"
    },
    {
     "data": {
      "image/png": "[encoded data removed]",
      "text/plain": [
       "<Figure size 432x288 with 2 Axes>"
      ]
     },
     "metadata": {},
     "output_type": "display_data"
    }
   ],
   "source": [
    "validate_NB = gs_NB.predict(X_val)\n",
    "\n",
    "print(accuracy_score(y_val,validate_NB))\n",
    "print(classification_report(y_val, validate_NB))\n",
    "conf_matrix_val_nb = confusion_matrix(y_val, validate_NB)\n",
    "sns.heatmap(conf_matrix_val_nb, annot=True)\n",
    "conf_matrix_val_nb"
   ]
  },
  {
   "cell_type": "code",
   "execution_count": 71,
   "metadata": {},
   "outputs": [
    {
     "data": {
      "text/plain": [
       "0.09768637532133684"
      ]
     },
     "execution_count": 71,
     "metadata": {},
     "output_type": "execute_result"
    }
   ],
   "source": [
    "cohen_kappa_score(y_val, validate_NB)"
   ]
  },
  {
   "cell_type": "markdown",
   "metadata": {},
   "source": [
    "# Build RF"
   ]
  },
  {
   "cell_type": "code",
   "execution_count": 72,
   "metadata": {
    "scrolled": false
   },
   "outputs": [
    {
     "name": "stdout",
     "output_type": "stream",
     "text": [
      "ACCURACY OF THE MODEL:  0.7377049180327869\n",
      "              precision    recall  f1-score   support\n",
      "\n",
      "           0       0.81      0.85      0.83        46\n",
      "           1       0.46      0.40      0.43        15\n",
      "\n",
      "    accuracy                           0.74        61\n",
      "   macro avg       0.64      0.62      0.63        61\n",
      "weighted avg       0.73      0.74      0.73        61\n",
      "\n"
     ]
    },
    {
     "data": {
      "text/plain": [
       "array([[39,  7],\n",
       "       [ 9,  6]], dtype=int64)"
      ]
     },
     "execution_count": 72,
     "metadata": {},
     "output_type": "execute_result"
    },
    {
     "data": {
      "image/png": "[encoded data removed]",
      "text/plain": [
       "<Figure size 432x288 with 2 Axes>"
      ]
     },
     "metadata": {},
     "output_type": "display_data"
    }
   ],
   "source": [
    "from imblearn.ensemble import BalancedRandomForestClassifier\n",
    "random_forest = BalancedRandomForestClassifier(n_estimators=150, random_state=5)\n",
    "#ensemble.RandomForestClassifier(n_estimators=100)#,class_weight={0:4,1:1})\n",
    "random_forest.fit(X_train,y_train);\n",
    "prediction_rf = random_forest.predict(X_test)\n",
    "print(\"ACCURACY OF THE MODEL: \", metrics.accuracy_score(y_test, prediction_rf))\n",
    "\n",
    "print(classification_report(y_test, prediction_rf))\n",
    "\n",
    "conf_matrix_rf = confusion_matrix(y_test, prediction_rf)\n",
    "sns.heatmap(conf_matrix_rf, annot=True)\n",
    "conf_matrix_rf"
   ]
  },
  {
   "cell_type": "markdown",
   "metadata": {},
   "source": [
    "# Feature importance according to Random Forest "
   ]
  },
  {
   "cell_type": "code",
   "execution_count": 73,
   "metadata": {},
   "outputs": [
    {
     "name": "stdout",
     "output_type": "stream",
     "text": [
      "[ 4.26229508e-02  1.31147541e-02  6.55737705e-03  4.59016393e-02\n",
      "  2.29508197e-02 -1.63934426e-02  4.44089210e-17 -3.27868852e-03\n",
      "  6.55737705e-03  1.96721311e-02  6.55737705e-03 -6.55737705e-03\n",
      "  4.44089210e-17 -1.63934426e-02  1.96721311e-02]\n"
     ]
    }
   ],
   "source": [
    "imps_rf = permutation_importance(random_forest, X_test, y_test)\n",
    "print(imps_rf.importances_mean)"
   ]
  },
  {
   "cell_type": "markdown",
   "metadata": {},
   "source": [
    "# Increase accuracy RF"
   ]
  },
  {
   "cell_type": "code",
   "execution_count": 74,
   "metadata": {},
   "outputs": [],
   "source": [
    "# Number of trees in random forest\n",
    "n_estimators = [45, 75, 100] #[int(x) for x in np.linspace(start = 10, stop = 80, num = 10)]\n",
    "# Number of features to consider at every split\n",
    "max_features = ['log2',0.3,0.5, 'sqrt']\n",
    "# Maximum number of levels in tree\n",
    "max_depth = [28, 36, 40]\n",
    "# Minimum number of samples required to split a node\n",
    "min_samples_split = [2,3,5]\n",
    "# Minimum number of samples required at each leaf node\n",
    "min_samples_leaf = [50,60,70]\n",
    "# Method of selecting samples for training each tree\n",
    "bootstrap = [True, False]\n",
    "oob_score = [True, False]"
   ]
  },
  {
   "cell_type": "code",
   "execution_count": 75,
   "metadata": {},
   "outputs": [
    {
     "name": "stdout",
     "output_type": "stream",
     "text": [
      "{'n_estimators': [45, 75, 100], 'max_features': ['log2', 0.3, 0.5, 'sqrt'], 'max_depth': [28, 36, 40], 'min_samples_split': [2, 3, 5], 'min_samples_leaf': [50, 60, 70], 'bootstrap': [True, False]}\n"
     ]
    }
   ],
   "source": [
    "# Create the param grid\n",
    "param_grid = {'n_estimators': n_estimators,\n",
    "               'max_features': max_features,\n",
    "               'max_depth': max_depth,\n",
    "               'min_samples_split': min_samples_split,\n",
    "               'min_samples_leaf': min_samples_leaf,\n",
    "               'bootstrap': bootstrap}\n",
    "print(param_grid)"
   ]
  },
  {
   "cell_type": "code",
   "execution_count": 76,
   "metadata": {},
   "outputs": [],
   "source": [
    "from sklearn.model_selection import StratifiedKFold\n",
    "from sklearn.metrics import roc_curve, precision_recall_curve, auc, make_scorer, recall_score, accuracy_score, precision_score, confusion_matrix\n",
    "skf = StratifiedKFold(n_splits=5)"
   ]
  },
  {
   "cell_type": "code",
   "execution_count": 77,
   "metadata": {},
   "outputs": [
    {
     "name": "stdout",
     "output_type": "stream",
     "text": [
      "Fitting 5 folds for each of 648 candidates, totalling 3240 fits\n"
     ]
    },
    {
     "data": {
      "text/html": [
       "<style>#sk-container-id-2 {color: black;background-color: white;}#sk-container-id-2 pre{padding: 0;}#sk-container-id-2 div.sk-toggleable {background-color: white;}#sk-container-id-2 label.sk-toggleable__label {cursor: pointer;display: block;width: 100%;margin-bottom: 0;padding: 0.3em;box-sizing: border-box;text-align: center;}#sk-container-id-2 label.sk-toggleable__label-arrow:before {content: \"▸\";float: left;margin-right: 0.25em;color: #696969;}#sk-container-id-2 label.sk-toggleable__label-arrow:hover:before {color: black;}#sk-container-id-2 div.sk-estimator:hover label.sk-toggleable__label-arrow:before {color: black;}#sk-container-id-2 div.sk-toggleable__content {max-height: 0;max-width: 0;overflow: hidden;text-align: left;background-color: #f0f8ff;}#sk-container-id-2 div.sk-toggleable__content pre {margin: 0.2em;color: black;border-radius: 0.25em;background-color: #f0f8ff;}#sk-container-id-2 input.sk-toggleable__control:checked~div.sk-toggleable__content {max-height: 200px;max-width: 100%;overflow: auto;}#sk-container-id-2 input.sk-toggleable__control:checked~label.sk-toggleable__label-arrow:before {content: \"▾\";}#sk-container-id-2 div.sk-estimator input.sk-toggleable__control:checked~label.sk-toggleable__label {background-color: #d4ebff;}#sk-container-id-2 div.sk-label input.sk-toggleable__control:checked~label.sk-toggleable__label {background-color: #d4ebff;}#sk-container-id-2 input.sk-hidden--visually {border: 0;clip: rect(1px 1px 1px 1px);clip: rect(1px, 1px, 1px, 1px);height: 1px;margin: -1px;overflow: hidden;padding: 0;position: absolute;width: 1px;}#sk-container-id-2 div.sk-estimator {font-family: monospace;background-color: #f0f8ff;border: 1px dotted black;border-radius: 0.25em;box-sizing: border-box;margin-bottom: 0.5em;}#sk-container-id-2 div.sk-estimator:hover {background-color: #d4ebff;}#sk-container-id-2 div.sk-parallel-item::after {content: \"\";width: 100%;border-bottom: 1px solid gray;flex-grow: 1;}#sk-container-id-2 div.sk-label:hover label.sk-toggleable__label {background-color: #d4ebff;}#sk-container-id-2 div.sk-serial::before {content: \"\";position: absolute;border-left: 1px solid gray;box-sizing: border-box;top: 0;bottom: 0;left: 50%;z-index: 0;}#sk-container-id-2 div.sk-serial {display: flex;flex-direction: column;align-items: center;background-color: white;padding-right: 0.2em;padding-left: 0.2em;position: relative;}#sk-container-id-2 div.sk-item {position: relative;z-index: 1;}#sk-container-id-2 div.sk-parallel {display: flex;align-items: stretch;justify-content: center;background-color: white;position: relative;}#sk-container-id-2 div.sk-item::before, #sk-container-id-2 div.sk-parallel-item::before {content: \"\";position: absolute;border-left: 1px solid gray;box-sizing: border-box;top: 0;bottom: 0;left: 50%;z-index: -1;}#sk-container-id-2 div.sk-parallel-item {display: flex;flex-direction: column;z-index: 1;position: relative;background-color: white;}#sk-container-id-2 div.sk-parallel-item:first-child::after {align-self: flex-end;width: 50%;}#sk-container-id-2 div.sk-parallel-item:last-child::after {align-self: flex-start;width: 50%;}#sk-container-id-2 div.sk-parallel-item:only-child::after {width: 0;}#sk-container-id-2 div.sk-dashed-wrapped {border: 1px dashed gray;margin: 0 0.4em 0.5em 0.4em;box-sizing: border-box;padding-bottom: 0.4em;background-color: white;}#sk-container-id-2 div.sk-label label {font-family: monospace;font-weight: bold;display: inline-block;line-height: 1.2em;}#sk-container-id-2 div.sk-label-container {text-align: center;}#sk-container-id-2 div.sk-container {/* jupyter's `normalize.less` sets `[hidden] { display: none; }` but bootstrap.min.css set `[hidden] { display: none !important; }` so we also need the `!important` here to be able to override the default hidden behavior on the sphinx rendered scikit-learn.org. See: https://github.com/scikit-learn/scikit-learn/issues/21755 */display: inline-block !important;position: relative;}#sk-container-id-2 div.sk-text-repr-fallback {display: none;}</style><div id=\"sk-container-id-2\" class=\"sk-top-container\"><div class=\"sk-text-repr-fallback\"><pre>GridSearchCV(cv=StratifiedKFold(n_splits=5, random_state=None, shuffle=False),\n",
       "             estimator=BalancedRandomForestClassifier(n_estimators=150,\n",
       "                                                      random_state=2),\n",
       "             n_jobs=-1,\n",
       "             param_grid={&#x27;bootstrap&#x27;: [True, False], &#x27;max_depth&#x27;: [28, 36, 40],\n",
       "                         &#x27;max_features&#x27;: [&#x27;log2&#x27;, 0.3, 0.5, &#x27;sqrt&#x27;],\n",
       "                         &#x27;min_samples_leaf&#x27;: [50, 60, 70],\n",
       "                         &#x27;min_samples_split&#x27;: [2, 3, 5],\n",
       "                         &#x27;n_estimators&#x27;: [45, 75, 100]},\n",
       "             scoring=&#x27;recall&#x27;, verbose=2)</pre><b>In a Jupyter environment, please rerun this cell to show the HTML representation or trust the notebook. <br />On GitHub, the HTML representation is unable to render, please try loading this page with nbviewer.org.</b></div><div class=\"sk-container\" hidden><div class=\"sk-item sk-dashed-wrapped\"><div class=\"sk-label-container\"><div class=\"sk-label sk-toggleable\"><input class=\"sk-toggleable__control sk-hidden--visually\" id=\"sk-estimator-id-4\" type=\"checkbox\" ><label for=\"sk-estimator-id-4\" class=\"sk-toggleable__label sk-toggleable__label-arrow\">GridSearchCV</label><div class=\"sk-toggleable__content\"><pre>GridSearchCV(cv=StratifiedKFold(n_splits=5, random_state=None, shuffle=False),\n",
       "             estimator=BalancedRandomForestClassifier(n_estimators=150,\n",
       "                                                      random_state=2),\n",
       "             n_jobs=-1,\n",
       "             param_grid={&#x27;bootstrap&#x27;: [True, False], &#x27;max_depth&#x27;: [28, 36, 40],\n",
       "                         &#x27;max_features&#x27;: [&#x27;log2&#x27;, 0.3, 0.5, &#x27;sqrt&#x27;],\n",
       "                         &#x27;min_samples_leaf&#x27;: [50, 60, 70],\n",
       "                         &#x27;min_samples_split&#x27;: [2, 3, 5],\n",
       "                         &#x27;n_estimators&#x27;: [45, 75, 100]},\n",
       "             scoring=&#x27;recall&#x27;, verbose=2)</pre></div></div></div><div class=\"sk-parallel\"><div class=\"sk-parallel-item\"><div class=\"sk-item\"><div class=\"sk-label-container\"><div class=\"sk-label sk-toggleable\"><input class=\"sk-toggleable__control sk-hidden--visually\" id=\"sk-estimator-id-5\" type=\"checkbox\" ><label for=\"sk-estimator-id-5\" class=\"sk-toggleable__label sk-toggleable__label-arrow\">estimator: BalancedRandomForestClassifier</label><div class=\"sk-toggleable__content\"><pre>BalancedRandomForestClassifier(n_estimators=150, random_state=2)</pre></div></div></div><div class=\"sk-serial\"><div class=\"sk-item\"><div class=\"sk-estimator sk-toggleable\"><input class=\"sk-toggleable__control sk-hidden--visually\" id=\"sk-estimator-id-6\" type=\"checkbox\" ><label for=\"sk-estimator-id-6\" class=\"sk-toggleable__label sk-toggleable__label-arrow\">BalancedRandomForestClassifier</label><div class=\"sk-toggleable__content\"><pre>BalancedRandomForestClassifier(n_estimators=150, random_state=2)</pre></div></div></div></div></div></div></div></div></div></div>"
      ],
      "text/plain": [
       "GridSearchCV(cv=StratifiedKFold(n_splits=5, random_state=None, shuffle=False),\n",
       "             estimator=BalancedRandomForestClassifier(n_estimators=150,\n",
       "                                                      random_state=2),\n",
       "             n_jobs=-1,\n",
       "             param_grid={'bootstrap': [True, False], 'max_depth': [28, 36, 40],\n",
       "                         'max_features': ['log2', 0.3, 0.5, 'sqrt'],\n",
       "                         'min_samples_leaf': [50, 60, 70],\n",
       "                         'min_samples_split': [2, 3, 5],\n",
       "                         'n_estimators': [45, 75, 100]},\n",
       "             scoring='recall', verbose=2)"
      ]
     },
     "execution_count": 77,
     "metadata": {},
     "output_type": "execute_result"
    }
   ],
   "source": [
    "random_forest_improved = BalancedRandomForestClassifier(n_estimators=150, random_state=2)\n",
    "rf_Grid = GridSearchCV(estimator = random_forest_improved, param_grid = param_grid, cv = skf, \n",
    "                       verbose=2, n_jobs = -1, scoring='recall')\n",
    "rf_Grid.fit(X_main, y_main)"
   ]
  },
  {
   "cell_type": "code",
   "execution_count": 78,
   "metadata": {},
   "outputs": [
    {
     "data": {
      "text/plain": [
       "{'bootstrap': True,\n",
       " 'max_depth': 28,\n",
       " 'max_features': 'log2',\n",
       " 'min_samples_leaf': 50,\n",
       " 'min_samples_split': 2,\n",
       " 'n_estimators': 75}"
      ]
     },
     "execution_count": 78,
     "metadata": {},
     "output_type": "execute_result"
    }
   ],
   "source": [
    "rf_Grid.best_params_"
   ]
  },
  {
   "cell_type": "code",
   "execution_count": 79,
   "metadata": {},
   "outputs": [
    {
     "name": "stdout",
     "output_type": "stream",
     "text": [
      "ACCURACY OF THE MODEL:  0.5737704918032787\n",
      "              precision    recall  f1-score   support\n",
      "\n",
      "           0       0.81      0.57      0.67        46\n",
      "           1       0.31      0.60      0.41        15\n",
      "\n",
      "    accuracy                           0.57        61\n",
      "   macro avg       0.56      0.58      0.54        61\n",
      "weighted avg       0.69      0.57      0.60        61\n",
      "\n"
     ]
    },
    {
     "data": {
      "text/plain": [
       "array([[26, 20],\n",
       "       [ 6,  9]], dtype=int64)"
      ]
     },
     "execution_count": 79,
     "metadata": {},
     "output_type": "execute_result"
    },
    {
     "data": {
      "image/png": "[encoded data removed]",
      "text/plain": [
       "<Figure size 432x288 with 2 Axes>"
      ]
     },
     "metadata": {},
     "output_type": "display_data"
    }
   ],
   "source": [
    "# COPY THE ABOVE BEST PARAMETERS **rf_Grid.best_params_\n",
    "random_forest2 = BalancedRandomForestClassifier(n_estimators=75, random_state=5, bootstrap= True,\n",
    "                                              max_depth=28,max_features= 'log2',min_samples_leaf=50,\n",
    "                                              min_samples_split =2)\n",
    "random_forest2.fit(X_main,y_main);\n",
    "\n",
    "prediction_rf2 = random_forest2.predict(X_test)\n",
    "print(\"ACCURACY OF THE MODEL: \", metrics.accuracy_score(y_test, prediction_rf2))\n",
    "\n",
    "print(classification_report(y_test, prediction_rf2))\n",
    "\n",
    "conf_matrix_rf = confusion_matrix(y_test, prediction_rf2)\n",
    "sns.heatmap(conf_matrix_rf, annot=True)\n",
    "conf_matrix_rf"
   ]
  },
  {
   "cell_type": "markdown",
   "metadata": {},
   "source": [
    "# Apply best RF model to validation set"
   ]
  },
  {
   "cell_type": "code",
   "execution_count": 80,
   "metadata": {},
   "outputs": [
    {
     "name": "stdout",
     "output_type": "stream",
     "text": [
      "ACCURACY OF THE MODEL:  0.46296296296296297\n",
      "              precision    recall  f1-score   support\n",
      "\n",
      "           0       0.86      0.41      0.55        44\n",
      "           1       0.21      0.70      0.33        10\n",
      "\n",
      "    accuracy                           0.46        54\n",
      "   macro avg       0.53      0.55      0.44        54\n",
      "weighted avg       0.74      0.46      0.51        54\n",
      "\n"
     ]
    },
    {
     "data": {
      "text/plain": [
       "array([[18, 26],\n",
       "       [ 3,  7]], dtype=int64)"
      ]
     },
     "execution_count": 80,
     "metadata": {},
     "output_type": "execute_result"
    },
    {
     "data": {
      "image/png": "[encoded data removed]",
      "text/plain": [
       "<Figure size 432x288 with 2 Axes>"
      ]
     },
     "metadata": {},
     "output_type": "display_data"
    }
   ],
   "source": [
    "validate_rf = random_forest2.predict(X_val)\n",
    "print(\"ACCURACY OF THE MODEL: \", metrics.accuracy_score(y_val, validate_rf))\n",
    "\n",
    "print(classification_report(y_val, validate_rf))\n",
    "\n",
    "conf_matrix_val_rf = confusion_matrix(y_val, validate_rf)\n",
    "sns.heatmap(conf_matrix_val_rf, annot=True)\n",
    "conf_matrix_val_rf"
   ]
  },
  {
   "cell_type": "code",
   "execution_count": 81,
   "metadata": {},
   "outputs": [
    {
     "data": {
      "text/plain": [
       "0.0577617328519856"
      ]
     },
     "execution_count": 81,
     "metadata": {},
     "output_type": "execute_result"
    }
   ],
   "source": [
    "cohen_kappa_score(y_val, validate_rf)"
   ]
  },
  {
   "cell_type": "markdown",
   "metadata": {},
   "source": [
    "# Build XGBOOST"
   ]
  },
  {
   "cell_type": "code",
   "execution_count": 82,
   "metadata": {},
   "outputs": [
    {
     "name": "stdout",
     "output_type": "stream",
     "text": [
      "\n",
      "XGBClassifier(base_score=0.5, booster='gbtree', callbacks=None,\n",
      "              colsample_bylevel=1, colsample_bynode=1, colsample_bytree=1,\n",
      "              early_stopping_rounds=None, enable_categorical=False,\n",
      "              eval_metric=None, gamma=0, gpu_id=-1, grow_policy='depthwise',\n",
      "              importance_type=None, interaction_constraints='',\n",
      "              learning_rate=0.300000012, max_bin=256, max_cat_to_onehot=4,\n",
      "              max_delta_step=0, max_depth=6, max_leaves=0, min_child_weight=1,\n",
      "              missing=nan, monotone_constraints='()', n_estimators=100,\n",
      "              n_jobs=0, num_parallel_tree=1, predictor='auto', random_state=0,\n",
      "              reg_alpha=0, reg_lambda=1, ...)\n"
     ]
    }
   ],
   "source": [
    "XGBoost = xgb.XGBClassifier()\n",
    "XGBoost.fit(X_train, y_train)\n",
    "print(); print(XGBoost)\n",
    "expected_y  = y_test\n",
    "predicted_y = XGBoost.predict(X_test)"
   ]
  },
  {
   "cell_type": "code",
   "execution_count": 83,
   "metadata": {},
   "outputs": [
    {
     "name": "stdout",
     "output_type": "stream",
     "text": [
      "              precision    recall  f1-score   support\n",
      "\n",
      "           0       0.80      0.80      0.80        46\n",
      "           1       0.40      0.40      0.40        15\n",
      "\n",
      "    accuracy                           0.70        61\n",
      "   macro avg       0.60      0.60      0.60        61\n",
      "weighted avg       0.70      0.70      0.70        61\n",
      "\n"
     ]
    },
    {
     "data": {
      "text/plain": [
       "array([[37,  9],\n",
       "       [ 9,  6]], dtype=int64)"
      ]
     },
     "execution_count": 83,
     "metadata": {},
     "output_type": "execute_result"
    },
    {
     "data": {
      "image/png": "[encoded data removed]",
      "text/plain": [
       "<Figure size 432x288 with 2 Axes>"
      ]
     },
     "metadata": {},
     "output_type": "display_data"
    }
   ],
   "source": [
    "expected_y  = y_test\n",
    "predicted_y = XGBoost.predict(X_test)\n",
    "print(metrics.classification_report(expected_y, predicted_y))\n",
    "xgb_metrics = metrics.confusion_matrix(expected_y, predicted_y)\n",
    "sns.heatmap(xgb_metrics, annot=True)\n",
    "xgb_metrics"
   ]
  },
  {
   "cell_type": "code",
   "execution_count": 84,
   "metadata": {},
   "outputs": [
    {
     "name": "stdout",
     "output_type": "stream",
     "text": [
      "[ 0.01967213 -0.00327869 -0.00983607  0.03278689 -0.03278689 -0.05901639\n",
      " -0.04590164 -0.02295082 -0.01967213 -0.00655738 -0.00327869  0.\n",
      " -0.01639344 -0.04590164 -0.02622951]\n"
     ]
    }
   ],
   "source": [
    "imps_xgboost = permutation_importance(XGBoost, X_test, y_test)\n",
    "print(imps_xgboost.importances_mean)"
   ]
  },
  {
   "cell_type": "code",
   "execution_count": 85,
   "metadata": {},
   "outputs": [
    {
     "data": {
      "text/plain": [
       "{'damagePerMinute': 1.4771541357040405,\n",
       " 'kills': 0.8656132221221924,\n",
       " 'goldPerMinute': 0.646615743637085,\n",
       " 'firstTowerAssist': 1.2606620788574219,\n",
       " 'killingSprees': 1.1869357824325562,\n",
       " 'inhibitorTakedowns': 0.8529469966888428,\n",
       " 'wardsKilled': 0.6738532185554504,\n",
       " 'timePlayed': 0.7708950638771057,\n",
       " 'firstBloodAssist': 0.6789265871047974,\n",
       " 'assists': 0.4648399353027344,\n",
       " 'firstTowerKill': 0.6991549730300903,\n",
       " 'gameLength': 0.020114123821258545,\n",
       " 'deaths': 0.6897481083869934,\n",
       " 'champExperience': 1.0313782691955566,\n",
       " 'bountyLevel': 1.4742891788482666}"
      ]
     },
     "execution_count": 85,
     "metadata": {},
     "output_type": "execute_result"
    }
   ],
   "source": [
    "XGBoost.get_booster().get_score(importance_type=\"gain\")\n"
   ]
  },
  {
   "cell_type": "markdown",
   "metadata": {},
   "source": [
    "# Improve XGBOOST "
   ]
  },
  {
   "cell_type": "code",
   "execution_count": 86,
   "metadata": {},
   "outputs": [],
   "source": [
    "param_grid = {\n",
    "    \"max_depth\": [4, 5, 8],\n",
    "    \"min_child_weight\": [0.5, 1, 2],\n",
    "    \"learning_rate\": [0.18, 0.15, 0.12],\n",
    "    \"gamma\": [0.12, 0.14],\n",
    "    \"reg_lambda\": [0.85, 0.75, 0.65],\n",
    "    \"scale_pos_weight\": [6,7,8],\n",
    "    \"subsample\": [0.7],\n",
    "    \"colsample_bytree\": [0.5],\n",
    "    \"n_estimators\": [50, 100],\n",
    "    #\"max_delta_step\":[2],\n",
    "}"
   ]
  },
  {
   "cell_type": "code",
   "execution_count": 87,
   "metadata": {},
   "outputs": [],
   "source": [
    "# Init classifier\n",
    "xgb_cl = xgb.XGBClassifier()\n",
    "\n",
    "# Init Grid Search\n",
    "grid_cv = GridSearchCV(xgb_cl, param_grid, cv=3, scoring=\"roc_auc\")\n",
    "\n",
    "# Fit\n",
    "_ = grid_cv.fit(X_train, y_train)"
   ]
  },
  {
   "cell_type": "code",
   "execution_count": 88,
   "metadata": {},
   "outputs": [
    {
     "data": {
      "text/plain": [
       "0.8586726599682707"
      ]
     },
     "execution_count": 88,
     "metadata": {},
     "output_type": "execute_result"
    }
   ],
   "source": [
    " grid_cv.best_score_"
   ]
  },
  {
   "cell_type": "code",
   "execution_count": 89,
   "metadata": {},
   "outputs": [
    {
     "data": {
      "text/plain": [
       "{'colsample_bytree': 0.5,\n",
       " 'gamma': 0.14,\n",
       " 'learning_rate': 0.12,\n",
       " 'max_depth': 5,\n",
       " 'min_child_weight': 0.5,\n",
       " 'n_estimators': 50,\n",
       " 'reg_lambda': 0.75,\n",
       " 'scale_pos_weight': 8,\n",
       " 'subsample': 0.7}"
      ]
     },
     "execution_count": 89,
     "metadata": {},
     "output_type": "execute_result"
    }
   ],
   "source": [
    "grid_cv.best_params_"
   ]
  },
  {
   "cell_type": "code",
   "execution_count": 90,
   "metadata": {},
   "outputs": [
    {
     "name": "stdout",
     "output_type": "stream",
     "text": [
      "ACCURACY OF THE MODEL:  0.7049180327868853\n",
      "              precision    recall  f1-score   support\n",
      "\n",
      "           0       0.83      0.76      0.80        46\n",
      "           1       0.42      0.53      0.47        15\n",
      "\n",
      "    accuracy                           0.70        61\n",
      "   macro avg       0.63      0.65      0.63        61\n",
      "weighted avg       0.73      0.70      0.72        61\n",
      "\n"
     ]
    },
    {
     "data": {
      "text/plain": [
       "array([[35, 11],\n",
       "       [ 7,  8]], dtype=int64)"
      ]
     },
     "execution_count": 90,
     "metadata": {},
     "output_type": "execute_result"
    },
    {
     "data": {
      "image/png": "[encoded data removed]",
      "text/plain": [
       "<Figure size 432x288 with 2 Axes>"
      ]
     },
     "metadata": {},
     "output_type": "display_data"
    }
   ],
   "source": [
    "XGBoost_imp = xgb.XGBClassifier(**grid_cv.best_params_)\n",
    "\n",
    "XGBoost_imp.fit(X_train, y_train)\n",
    "\n",
    "prediction_XGBoost_imp = XGBoost_imp.predict(X_test)\n",
    "print(\"ACCURACY OF THE MODEL: \", metrics.accuracy_score(y_test, prediction_XGBoost_imp))\n",
    "print(classification_report(y_test, prediction_XGBoost_imp))\n",
    "\n",
    "\n",
    "conf_matrix_xgb_imp = confusion_matrix(y_test, prediction_XGBoost_imp)\n",
    "sns.heatmap(conf_matrix_xgb_imp, annot=True)\n",
    "conf_matrix_xgb_imp"
   ]
  },
  {
   "cell_type": "markdown",
   "metadata": {},
   "source": [
    "# Apply best xgboost to validation dataset"
   ]
  },
  {
   "cell_type": "code",
   "execution_count": 91,
   "metadata": {},
   "outputs": [
    {
     "name": "stdout",
     "output_type": "stream",
     "text": [
      "ACCURACY OF THE MODEL:  0.7407407407407407\n",
      "              precision    recall  f1-score   support\n",
      "\n",
      "           0       0.92      0.75      0.83        44\n",
      "           1       0.39      0.70      0.50        10\n",
      "\n",
      "    accuracy                           0.74        54\n",
      "   macro avg       0.65      0.72      0.66        54\n",
      "weighted avg       0.82      0.74      0.76        54\n",
      "\n"
     ]
    },
    {
     "data": {
      "text/plain": [
       "array([[33, 11],\n",
       "       [ 3,  7]], dtype=int64)"
      ]
     },
     "execution_count": 91,
     "metadata": {},
     "output_type": "execute_result"
    },
    {
     "data": {
      "image/png": "[encoded data removed]",
      "text/plain": [
       "<Figure size 432x288 with 2 Axes>"
      ]
     },
     "metadata": {},
     "output_type": "display_data"
    }
   ],
   "source": [
    "validate_xgboost = XGBoost_imp.predict(X_val)\n",
    "print(\"ACCURACY OF THE MODEL: \", metrics.accuracy_score(y_val, validate_xgboost))\n",
    "print(classification_report(y_val, validate_xgboost))\n",
    "\n",
    "\n",
    "conf_matrix_val_xgboost = confusion_matrix(y_val, validate_xgboost)\n",
    "sns.heatmap(conf_matrix_val_xgboost, annot=True)\n",
    "conf_matrix_val_xgboost"
   ]
  },
  {
   "cell_type": "code",
   "execution_count": 92,
   "metadata": {},
   "outputs": [
    {
     "data": {
      "text/plain": [
       "0.34375"
      ]
     },
     "execution_count": 92,
     "metadata": {},
     "output_type": "execute_result"
    }
   ],
   "source": [
    "cohen_kappa_score(y_val, validate_xgboost)"
   ]
  },
  {
   "cell_type": "markdown",
   "metadata": {},
   "source": [
    "# Evaluation metrics - ROC-AUC graph"
   ]
  },
  {
   "cell_type": "markdown",
   "metadata": {},
   "source": [
    "# Naive Bayes"
   ]
  },
  {
   "cell_type": "code",
   "execution_count": 93,
   "metadata": {},
   "outputs": [
    {
     "data": {
      "image/png": "[encoded data removed]",
      "text/plain": [
       "<Figure size 432x288 with 1 Axes>"
      ]
     },
     "metadata": {},
     "output_type": "display_data"
    }
   ],
   "source": [
    "probs = classifer_NB.predict_proba(X_val)\n",
    "preds = probs[:,1]\n",
    "fpr, tpr, threshold = metrics.roc_curve(y_val, preds)\n",
    "roc_auc = metrics.auc(fpr, tpr)\n",
    "\n",
    "plt.title('Receiver Operating Characteristic')\n",
    "plt.plot(fpr, tpr, 'b', label = 'AUC = %0.2f' % roc_auc)\n",
    "plt.legend(loc = 'lower right')\n",
    "plt.plot([0, 1], [0, 1],'r--')\n",
    "plt.xlim([0, 1])\n",
    "plt.ylim([0, 1])\n",
    "plt.ylabel('True Positive Rate')\n",
    "plt.xlabel('False Positive Rate')\n",
    "plt.show()"
   ]
  },
  {
   "cell_type": "markdown",
   "metadata": {},
   "source": [
    "# Random Forest"
   ]
  },
  {
   "cell_type": "code",
   "execution_count": 94,
   "metadata": {},
   "outputs": [
    {
     "data": {
      "image/png": "[encoded data removed]",
      "text/plain": [
       "<Figure size 432x288 with 1 Axes>"
      ]
     },
     "metadata": {},
     "output_type": "display_data"
    }
   ],
   "source": [
    "probs = random_forest2.predict_proba(X_val)\n",
    "preds = probs[:,1]\n",
    "fpr, tpr, threshold = metrics.roc_curve(y_val, preds)\n",
    "roc_auc = metrics.auc(fpr, tpr)\n",
    "\n",
    "plt.title('Receiver Operating Characteristic')\n",
    "plt.plot(fpr, tpr, 'b', label = 'AUC = %0.2f' % roc_auc)\n",
    "plt.legend(loc = 'lower right')\n",
    "plt.plot([0, 1], [0, 1],'r--')\n",
    "plt.xlim([0, 1])\n",
    "plt.ylim([0, 1])\n",
    "plt.ylabel('True Positive Rate')\n",
    "plt.xlabel('False Positive Rate')\n",
    "plt.show()"
   ]
  },
  {
   "cell_type": "markdown",
   "metadata": {},
   "source": [
    "# XGBOOST"
   ]
  },
  {
   "cell_type": "code",
   "execution_count": 95,
   "metadata": {},
   "outputs": [
    {
     "data": {
      "image/png": "[encoded data removed]",
      "text/plain": [
       "<Figure size 432x288 with 1 Axes>"
      ]
     },
     "metadata": {},
     "output_type": "display_data"
    }
   ],
   "source": [
    "probs = XGBoost_imp.predict_proba(X_val)\n",
    "preds = probs[:,1]\n",
    "fpr, tpr, threshold = metrics.roc_curve(y_val, preds)\n",
    "roc_auc = metrics.auc(fpr, tpr)\n",
    "\n",
    "plt.title('Receiver Operating Characteristic')\n",
    "plt.plot(fpr, tpr, 'b', label = 'AUC = %0.2f' % roc_auc)\n",
    "plt.legend(loc = 'lower right')\n",
    "plt.plot([0, 1], [0, 1],'r--')\n",
    "plt.xlim([0, 1])\n",
    "plt.ylim([0, 1])\n",
    "plt.ylabel('True Positive Rate')\n",
    "plt.xlabel('False Positive Rate')\n",
    "plt.show()"
   ]
  },
  {
   "cell_type": "markdown",
   "metadata": {},
   "source": [
    "# Calculate F-2 scores"
   ]
  },
  {
   "cell_type": "markdown",
   "metadata": {},
   "source": [
    "# Naive Bayes F-2 score "
   ]
  },
  {
   "cell_type": "code",
   "execution_count": 96,
   "metadata": {},
   "outputs": [
    {
     "data": {
      "text/plain": [
       "0.5436027096651083"
      ]
     },
     "execution_count": 96,
     "metadata": {},
     "output_type": "execute_result"
    }
   ],
   "source": [
    "fbeta_score(y_val, validate_NB, average='macro', beta=2)"
   ]
  },
  {
   "cell_type": "markdown",
   "metadata": {},
   "source": [
    "# Random Forest F-2 score "
   ]
  },
  {
   "cell_type": "code",
   "execution_count": 97,
   "metadata": {},
   "outputs": [
    {
     "data": {
      "text/plain": [
       "0.46815242333634655"
      ]
     },
     "execution_count": 97,
     "metadata": {},
     "output_type": "execute_result"
    }
   ],
   "source": [
    "fbeta_score(y_val, validate_rf, average='macro', beta=2)"
   ]
  },
  {
   "cell_type": "markdown",
   "metadata": {},
   "source": [
    "# XGBOOST F-2 score "
   ]
  },
  {
   "cell_type": "code",
   "execution_count": 98,
   "metadata": {},
   "outputs": [
    {
     "data": {
      "text/plain": [
       "0.6908750813272608"
      ]
     },
     "execution_count": 98,
     "metadata": {},
     "output_type": "execute_result"
    }
   ],
   "source": [
    "fbeta_score(y_val, validate_xgboost, average='macro', beta=2)"
   ]
  },
  {
   "cell_type": "markdown",
   "metadata": {},
   "source": [
    "# Feature Selection from RF for repeating the experiment "
   ]
  },
  {
   "cell_type": "code",
   "execution_count": 53,
   "metadata": {},
   "outputs": [],
   "source": [
    "def plot_feature_importance(importance,names,model_type):\n",
    "\n",
    "    #Create arrays from feature importance and feature names\n",
    "    feature_importance = np.array(importance)\n",
    "    feature_names = np.array(names)\n",
    "\n",
    "    #Create a DataFrame using a Dictionary\n",
    "    data={'feature_names':feature_names,'feature_importance':feature_importance}\n",
    "    fi_df = pd.DataFrame(data)\n",
    "\n",
    "    #Sort the DataFrame in order decreasing feature importance\n",
    "    fi_df.sort_values(by=['feature_importance'], ascending=False,inplace=True)\n",
    "\n",
    "    #Define size of bar plot\n",
    "    plt.figure(figsize=(10,8))\n",
    "    #Plot Searborn bar chart\n",
    "    sns.barplot(x=fi_df['feature_importance'], y=fi_df['feature_names'])\n",
    "    #Add chart labels\n",
    "    plt.title(model_type + 'FEATURE IMPORTANCE')\n",
    "    plt.xlabel('FEATURE IMPORTANCE')\n",
    "    plt.ylabel('FEATURE NAMES')"
   ]
  },
  {
   "cell_type": "code",
   "execution_count": 54,
   "metadata": {},
   "outputs": [
    {
     "data": {
      "image/png": "[encoded data removed]",
      "text/plain": [
       "<Figure size 720x576 with 1 Axes>"
      ]
     },
     "metadata": {},
     "output_type": "display_data"
    }
   ],
   "source": [
    "plot_feature_importance(random_forest.feature_importances_,X_train.columns,'RANDOM FOREST')\n"
   ]
  },
  {
   "cell_type": "markdown",
   "metadata": {},
   "source": [
    "# Create a dataset with the top 15 features and reapply the models"
   ]
  },
  {
   "cell_type": "code",
   "execution_count": 55,
   "metadata": {},
   "outputs": [],
   "source": [
    "df = df.loc[~((df['champExperience'] == 0))]"
   ]
  },
  {
   "cell_type": "code",
   "execution_count": 56,
   "metadata": {},
   "outputs": [],
   "source": [
    "df = df[['damagePerMinute','kills','goldPerMinute','firstTowerAssist','killingSprees','inhibitorTakedowns',\n",
    "                         'wardsKilled','timePlayed','firstBloodAssist','assists','firstTowerKill',\n",
    "                           'gameLength', 'deaths','champExperience','bountyLevel','Churner']]"
   ]
  },
  {
   "cell_type": "code",
   "execution_count": 57,
   "metadata": {},
   "outputs": [
    {
     "data": {
      "text/html": [
       "<div>\n",
       "<style scoped>\n",
       "    .dataframe tbody tr th:only-of-type {\n",
       "        vertical-align: middle;\n",
       "    }\n",
       "\n",
       "    .dataframe tbody tr th {\n",
       "        vertical-align: top;\n",
       "    }\n",
       "\n",
       "    .dataframe thead th {\n",
       "        text-align: right;\n",
       "    }\n",
       "</style>\n",
       "<table border=\"1\" class=\"dataframe\">\n",
       "  <thead>\n",
       "    <tr style=\"text-align: right;\">\n",
       "      <th></th>\n",
       "      <th>damagePerMinute</th>\n",
       "      <th>kills</th>\n",
       "      <th>goldPerMinute</th>\n",
       "      <th>firstTowerAssist</th>\n",
       "      <th>killingSprees</th>\n",
       "      <th>inhibitorTakedowns</th>\n",
       "      <th>wardsKilled</th>\n",
       "      <th>timePlayed</th>\n",
       "      <th>firstBloodAssist</th>\n",
       "      <th>assists</th>\n",
       "      <th>firstTowerKill</th>\n",
       "      <th>gameLength</th>\n",
       "      <th>deaths</th>\n",
       "      <th>champExperience</th>\n",
       "      <th>bountyLevel</th>\n",
       "      <th>Churner</th>\n",
       "    </tr>\n",
       "  </thead>\n",
       "  <tbody>\n",
       "    <tr>\n",
       "      <th>0</th>\n",
       "      <td>-1922.45</td>\n",
       "      <td>0.72</td>\n",
       "      <td>-38.20</td>\n",
       "      <td>-3.90</td>\n",
       "      <td>0.18</td>\n",
       "      <td>0.34</td>\n",
       "      <td>0.55</td>\n",
       "      <td>134.00</td>\n",
       "      <td>-9.09</td>\n",
       "      <td>-3.41</td>\n",
       "      <td>14.61</td>\n",
       "      <td>133.82</td>\n",
       "      <td>-2.22</td>\n",
       "      <td>93.04</td>\n",
       "      <td>0.29</td>\n",
       "      <td>0</td>\n",
       "    </tr>\n",
       "    <tr>\n",
       "      <th>1</th>\n",
       "      <td>-1079.40</td>\n",
       "      <td>-1.92</td>\n",
       "      <td>-145.86</td>\n",
       "      <td>-25.00</td>\n",
       "      <td>-0.71</td>\n",
       "      <td>0.10</td>\n",
       "      <td>1.21</td>\n",
       "      <td>355.56</td>\n",
       "      <td>-10.41</td>\n",
       "      <td>0.84</td>\n",
       "      <td>-4.17</td>\n",
       "      <td>355.53</td>\n",
       "      <td>0.27</td>\n",
       "      <td>-885.29</td>\n",
       "      <td>-0.04</td>\n",
       "      <td>0</td>\n",
       "    </tr>\n",
       "    <tr>\n",
       "      <th>2</th>\n",
       "      <td>-943.49</td>\n",
       "      <td>-1.14</td>\n",
       "      <td>-114.87</td>\n",
       "      <td>-11.54</td>\n",
       "      <td>-0.24</td>\n",
       "      <td>-0.22</td>\n",
       "      <td>0.38</td>\n",
       "      <td>456.75</td>\n",
       "      <td>-12.82</td>\n",
       "      <td>-3.54</td>\n",
       "      <td>3.20</td>\n",
       "      <td>456.60</td>\n",
       "      <td>-2.08</td>\n",
       "      <td>97.28</td>\n",
       "      <td>0.29</td>\n",
       "      <td>0</td>\n",
       "    </tr>\n",
       "    <tr>\n",
       "      <th>3</th>\n",
       "      <td>-203.08</td>\n",
       "      <td>-1.74</td>\n",
       "      <td>-18.89</td>\n",
       "      <td>10.42</td>\n",
       "      <td>-0.57</td>\n",
       "      <td>-0.24</td>\n",
       "      <td>0.25</td>\n",
       "      <td>-141.00</td>\n",
       "      <td>16.67</td>\n",
       "      <td>-0.47</td>\n",
       "      <td>-2.08</td>\n",
       "      <td>-141.14</td>\n",
       "      <td>-0.63</td>\n",
       "      <td>-1722.50</td>\n",
       "      <td>0.62</td>\n",
       "      <td>0</td>\n",
       "    </tr>\n",
       "    <tr>\n",
       "      <th>4</th>\n",
       "      <td>-454.27</td>\n",
       "      <td>-0.42</td>\n",
       "      <td>-22.99</td>\n",
       "      <td>-10.34</td>\n",
       "      <td>-0.09</td>\n",
       "      <td>-0.16</td>\n",
       "      <td>0.16</td>\n",
       "      <td>60.34</td>\n",
       "      <td>-4.31</td>\n",
       "      <td>-1.82</td>\n",
       "      <td>-1.15</td>\n",
       "      <td>60.51</td>\n",
       "      <td>1.93</td>\n",
       "      <td>-486.78</td>\n",
       "      <td>-0.29</td>\n",
       "      <td>0</td>\n",
       "    </tr>\n",
       "    <tr>\n",
       "      <th>...</th>\n",
       "      <td>...</td>\n",
       "      <td>...</td>\n",
       "      <td>...</td>\n",
       "      <td>...</td>\n",
       "      <td>...</td>\n",
       "      <td>...</td>\n",
       "      <td>...</td>\n",
       "      <td>...</td>\n",
       "      <td>...</td>\n",
       "      <td>...</td>\n",
       "      <td>...</td>\n",
       "      <td>...</td>\n",
       "      <td>...</td>\n",
       "      <td>...</td>\n",
       "      <td>...</td>\n",
       "      <td>...</td>\n",
       "    </tr>\n",
       "    <tr>\n",
       "      <th>360</th>\n",
       "      <td>-202.88</td>\n",
       "      <td>-1.77</td>\n",
       "      <td>-41.12</td>\n",
       "      <td>-9.28</td>\n",
       "      <td>-0.64</td>\n",
       "      <td>0.51</td>\n",
       "      <td>1.77</td>\n",
       "      <td>316.96</td>\n",
       "      <td>18.90</td>\n",
       "      <td>6.62</td>\n",
       "      <td>3.18</td>\n",
       "      <td>316.90</td>\n",
       "      <td>0.36</td>\n",
       "      <td>1867.60</td>\n",
       "      <td>-0.54</td>\n",
       "      <td>0</td>\n",
       "    </tr>\n",
       "    <tr>\n",
       "      <th>361</th>\n",
       "      <td>31.33</td>\n",
       "      <td>-0.91</td>\n",
       "      <td>-8.96</td>\n",
       "      <td>-2.25</td>\n",
       "      <td>-0.35</td>\n",
       "      <td>-0.19</td>\n",
       "      <td>-0.56</td>\n",
       "      <td>-94.99</td>\n",
       "      <td>0.46</td>\n",
       "      <td>-0.55</td>\n",
       "      <td>4.78</td>\n",
       "      <td>-95.14</td>\n",
       "      <td>-0.57</td>\n",
       "      <td>-777.30</td>\n",
       "      <td>-0.11</td>\n",
       "      <td>0</td>\n",
       "    </tr>\n",
       "    <tr>\n",
       "      <th>362</th>\n",
       "      <td>-1490.42</td>\n",
       "      <td>-1.17</td>\n",
       "      <td>-56.89</td>\n",
       "      <td>-2.27</td>\n",
       "      <td>-0.17</td>\n",
       "      <td>-0.20</td>\n",
       "      <td>0.00</td>\n",
       "      <td>120.14</td>\n",
       "      <td>-11.36</td>\n",
       "      <td>-1.11</td>\n",
       "      <td>-1.51</td>\n",
       "      <td>120.66</td>\n",
       "      <td>-0.43</td>\n",
       "      <td>-522.24</td>\n",
       "      <td>-0.22</td>\n",
       "      <td>1</td>\n",
       "    </tr>\n",
       "    <tr>\n",
       "      <th>363</th>\n",
       "      <td>-1752.73</td>\n",
       "      <td>1.55</td>\n",
       "      <td>80.98</td>\n",
       "      <td>2.53</td>\n",
       "      <td>0.45</td>\n",
       "      <td>0.02</td>\n",
       "      <td>0.22</td>\n",
       "      <td>-119.69</td>\n",
       "      <td>6.53</td>\n",
       "      <td>-0.20</td>\n",
       "      <td>-2.90</td>\n",
       "      <td>-119.64</td>\n",
       "      <td>0.81</td>\n",
       "      <td>776.90</td>\n",
       "      <td>0.66</td>\n",
       "      <td>0</td>\n",
       "    </tr>\n",
       "    <tr>\n",
       "      <th>364</th>\n",
       "      <td>-2268.75</td>\n",
       "      <td>1.79</td>\n",
       "      <td>20.61</td>\n",
       "      <td>-1.32</td>\n",
       "      <td>0.37</td>\n",
       "      <td>0.22</td>\n",
       "      <td>-0.37</td>\n",
       "      <td>103.28</td>\n",
       "      <td>7.46</td>\n",
       "      <td>3.97</td>\n",
       "      <td>-9.21</td>\n",
       "      <td>103.32</td>\n",
       "      <td>0.56</td>\n",
       "      <td>2712.20</td>\n",
       "      <td>1.37</td>\n",
       "      <td>0</td>\n",
       "    </tr>\n",
       "  </tbody>\n",
       "</table>\n",
       "<p>356 rows × 16 columns</p>\n",
       "</div>"
      ],
      "text/plain": [
       "     damagePerMinute  kills  goldPerMinute  firstTowerAssist  killingSprees  \\\n",
       "0           -1922.45   0.72         -38.20             -3.90           0.18   \n",
       "1           -1079.40  -1.92        -145.86            -25.00          -0.71   \n",
       "2            -943.49  -1.14        -114.87            -11.54          -0.24   \n",
       "3            -203.08  -1.74         -18.89             10.42          -0.57   \n",
       "4            -454.27  -0.42         -22.99            -10.34          -0.09   \n",
       "..               ...    ...            ...               ...            ...   \n",
       "360          -202.88  -1.77         -41.12             -9.28          -0.64   \n",
       "361            31.33  -0.91          -8.96             -2.25          -0.35   \n",
       "362         -1490.42  -1.17         -56.89             -2.27          -0.17   \n",
       "363         -1752.73   1.55          80.98              2.53           0.45   \n",
       "364         -2268.75   1.79          20.61             -1.32           0.37   \n",
       "\n",
       "     inhibitorTakedowns  wardsKilled  timePlayed  firstBloodAssist  assists  \\\n",
       "0                  0.34         0.55      134.00             -9.09    -3.41   \n",
       "1                  0.10         1.21      355.56            -10.41     0.84   \n",
       "2                 -0.22         0.38      456.75            -12.82    -3.54   \n",
       "3                 -0.24         0.25     -141.00             16.67    -0.47   \n",
       "4                 -0.16         0.16       60.34             -4.31    -1.82   \n",
       "..                  ...          ...         ...               ...      ...   \n",
       "360                0.51         1.77      316.96             18.90     6.62   \n",
       "361               -0.19        -0.56      -94.99              0.46    -0.55   \n",
       "362               -0.20         0.00      120.14            -11.36    -1.11   \n",
       "363                0.02         0.22     -119.69              6.53    -0.20   \n",
       "364                0.22        -0.37      103.28              7.46     3.97   \n",
       "\n",
       "     firstTowerKill  gameLength  deaths  champExperience  bountyLevel  Churner  \n",
       "0             14.61      133.82   -2.22            93.04         0.29        0  \n",
       "1             -4.17      355.53    0.27          -885.29        -0.04        0  \n",
       "2              3.20      456.60   -2.08            97.28         0.29        0  \n",
       "3             -2.08     -141.14   -0.63         -1722.50         0.62        0  \n",
       "4             -1.15       60.51    1.93          -486.78        -0.29        0  \n",
       "..              ...         ...     ...              ...          ...      ...  \n",
       "360            3.18      316.90    0.36          1867.60        -0.54        0  \n",
       "361            4.78      -95.14   -0.57          -777.30        -0.11        0  \n",
       "362           -1.51      120.66   -0.43          -522.24        -0.22        1  \n",
       "363           -2.90     -119.64    0.81           776.90         0.66        0  \n",
       "364           -9.21      103.32    0.56          2712.20         1.37        0  \n",
       "\n",
       "[356 rows x 16 columns]"
      ]
     },
     "execution_count": 57,
     "metadata": {},
     "output_type": "execute_result"
    }
   ],
   "source": [
    "df"
   ]
  },
  {
   "cell_type": "code",
   "execution_count": 58,
   "metadata": {},
   "outputs": [
    {
     "name": "stdout",
     "output_type": "stream",
     "text": [
      "0    184\n",
      "1     57\n",
      "Name: Churner, dtype: int64\n",
      "0    46\n",
      "1    15\n",
      "Name: Churner, dtype: int64\n",
      "0    44\n",
      "1    10\n",
      "Name: Churner, dtype: int64\n"
     ]
    }
   ],
   "source": [
    "y=df.loc[:,df.columns=='Churner']\n",
    "X=df.loc[:,df.columns!='Churner']\n",
    "\n",
    "X_main,X_val,y_main,y_val = train_test_split(X,y, test_size=0.15, random_state=14) #to assess final model, this will undergo SMOTE\n",
    "\n",
    "\n",
    "X_train,X_test,y_train,y_test = train_test_split(X_main,y_main, test_size=0.20, random_state=12) #to train and test models\n",
    "\n",
    "X_test.shape\n",
    "X_train.shape\n",
    "X_val.shape\n",
    "columns = X_train.columns\n",
    "\n",
    "print(y_train['Churner'].value_counts())\n",
    "print(y_test['Churner'].value_counts())\n",
    "print(y_val['Churner'].value_counts())"
   ]
  },
  {
   "cell_type": "code",
   "execution_count": 59,
   "metadata": {},
   "outputs": [],
   "source": [
    "# for reproducibility purposes\n",
    "seed = 13\n",
    "# SMOTE number of neighbors\n",
    "k = 3\n",
    "\n",
    "sm = SMOTE(sampling_strategy={1:114}, k_neighbors=k, random_state=seed)\n",
    "X_res, y_res = sm.fit_resample(X_train, y_train)"
   ]
  },
  {
   "cell_type": "code",
   "execution_count": 60,
   "metadata": {},
   "outputs": [],
   "source": [
    "X_train,y_train = X_res, y_res"
   ]
  },
  {
   "cell_type": "code",
   "execution_count": 61,
   "metadata": {},
   "outputs": [
    {
     "name": "stdout",
     "output_type": "stream",
     "text": [
      "0    184\n",
      "1    114\n",
      "Name: Churner, dtype: int64\n",
      "0    46\n",
      "1    15\n",
      "Name: Churner, dtype: int64\n",
      "0    44\n",
      "1    10\n",
      "Name: Churner, dtype: int64\n"
     ]
    }
   ],
   "source": [
    "print(y_train['Churner'].value_counts())\n",
    "print(y_test['Churner'].value_counts())\n",
    "print(y_val['Churner'].value_counts())"
   ]
  },
  {
   "cell_type": "markdown",
   "metadata": {},
   "source": [
    "# Go back at cell \"Build Naive Bayes\" and run again the code\n",
    "This time only the top 15 features are in the training data!"
   ]
  },
  {
   "cell_type": "code",
   "execution_count": null,
   "metadata": {},
   "outputs": [],
   "source": []
  }
 ],
 "metadata": {
  "kernelspec": {
   "display_name": "Python 3",
   "language": "python",
   "name": "python3"
  },
  "language_info": {
   "codemirror_mode": {
    "name": "ipython",
    "version": 3
   },
   "file_extension": ".py",
   "mimetype": "text/x-python",
   "name": "python",
   "nbconvert_exporter": "python",
   "pygments_lexer": "ipython3",
   "version": "3.8.3"
  }
 },
 "nbformat": 4,
 "nbformat_minor": 4
}
